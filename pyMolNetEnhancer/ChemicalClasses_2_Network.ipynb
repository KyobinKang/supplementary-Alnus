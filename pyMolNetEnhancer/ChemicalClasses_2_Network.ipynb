{
 "cells": [
  {
   "cell_type": "markdown",
   "metadata": {},
   "source": [
    "Download GNPS and <i>in silico</i> structural annotation (NAP, Dereplicator, Varquest) data <br>\n",
    "Replace Job IDs below with your GNPS, Varquest or Dereplicator job IDs:"
   ]
  },
  {
   "cell_type": "code",
   "execution_count": 1,
   "metadata": {},
   "outputs": [
    {
     "name": "stderr",
     "output_type": "stream",
     "text": [
      "  % Total    % Received % Xferd  Average Speed   Time    Time     Time  Current\n",
      "                                 Dload  Upload   Total   Spent    Left  Speed\n",
      "\n",
      "  0     0    0     0    0     0      0      0 --:--:-- --:--:-- --:--:--     0curl: (6) Could not resolve host: 'https\n",
      "'view'은(는) 내부 또는 외부 명령, 실행할 수 있는 프로그램, 또는\n",
      "배치 파일이 아닙니다.\n",
      "UnZip 6.00 of 20 April 2009, by Info-ZIP.  Maintained by C. Spieler.  Send\n",
      "bug reports using http://www.info-zip.org/zip-bug.html; see README for details.\n",
      "\n",
      "Usage: unzip [-Z] [-opts[modifiers]] file[.zip] [list] [-x xlist] [-d exdir]\n",
      "  Default action is to extract files in list, except those in xlist, to exdir;\n",
      "  file[.zip] may be a wildcard.  -Z => ZipInfo mode (\"unzip -Z\" for usage).\n",
      "\n",
      "  -p  extract files to pipe, no messages     -l  list files (short format)\n",
      "  -f  freshen existing files, create none    -t  test compressed archive data\n",
      "  -u  update files, create if necessary      -z  display archive comment only\n",
      "  -v  list verbosely/show version info       -T  timestamp archive to latest\n",
      "  -x  exclude files that follow (in xlist)   -d  extract files into exdir\n",
      "modifiers:\n",
      "  -n  never overwrite existing files         -q  quiet mode (-qq => quieter)\n",
      "  -o  overwrite files WITHOUT prompting      -a  auto-convert any text files\n",
      "  -j  junk paths (do not make directories)   -aa treat ALL files as text\n",
      "  -U  use escapes for all non-ASCII Unicode  -UU ignore any Unicode fields\n",
      "  -C  match filenames case-insensitively     -L  make (some) names lowercase\n",
      "  -X  restore UID/GID info                   -V  retain VMS version numbers\n",
      "  -K  keep setuid/setgid/tacky permissions   -M  pipe through \"more\" pager\n",
      "See \"unzip -hh\" or unzip.txt for more help.  Examples:\n",
      "  unzip data1 -x joe   => extract all files except joe from zipfile data1.zip\n",
      "  unzip -p foo | more  => send contents of foo.zip via pipe into program more\n",
      "  unzip -fo foo ReadMe => quietly replace existing ReadMe if archive file newer\n"
     ]
    }
   ],
   "source": [
    "! curl -d \"\" 'https://gnps.ucsd.edu/ProteoSAFe/result.jsp?task=8c6f75c33ce449189236ffdf929e5589&view=cytoscape_preview' -o GNPS_output_graphML.zip\n",
    "! unzip -d GNPS_output_graphML/GNPS_output_graphML.zip"
   ]
  },
  {
   "cell_type": "markdown",
   "metadata": {},
   "source": [
    "load libraries"
   ]
  },
  {
   "cell_type": "code",
   "execution_count": 7,
   "metadata": {},
   "outputs": [],
   "source": [
    "from pyMolNetEnhancer import *\n",
    "import pandas as pd\n",
    "import os\n",
    "import csv \n",
    "import json\n",
    "from networkx import *\n",
    "path = '/usr/bin/' #path to MarvinSuite's molconvert used to convert SMILES to InchiKeys\n",
    "os.environ['PATH'] += ':'+path"
   ]
  },
  {
   "cell_type": "code",
   "execution_count": 9,
   "metadata": {},
   "outputs": [],
   "source": [
    "netfile = 'GNPS_output/clusterinfosummarygroup_attributes_withIDs_withcomponentID/' + str(os.listdir('GNPS_output/clusterinfosummarygroup_attributes_withIDs_withcomponentID/')[0])\n",
    "gnpslibfile = 'GNPS_output/result_specnets_DB/'+ str(os.listdir('GNPS_output/result_specnets_DB/')[0])\n",
    "\n",
    "nap_id = '675a7abda69b498b883ffce2d2b076dc'\n",
    "\n",
    "nap = pd.read_csv(\"http://proteomics2.ucsd.edu/ProteoSAFe/DownloadResultFile?task=\"+nap_id+\"&block=main&file=final_out/node_attributes_table.tsv\", sep = \"\\t\")\n",
    "gnpslib = pd.read_csv(gnpslibfile, sep='\\t')\n",
    "matches = [gnpslib, nap]"
   ]
  },
  {
   "cell_type": "code",
   "execution_count": 10,
   "metadata": {},
   "outputs": [],
   "source": [
    "out = unique_smiles(matches)"
   ]
  },
  {
   "cell_type": "code",
   "execution_count": 11,
   "metadata": {},
   "outputs": [],
   "source": [
    "out['df'].to_csv(\"SMILES.csv\", quoting=csv.QUOTE_NONE, escapechar='&')"
   ]
  },
  {
   "cell_type": "markdown",
   "metadata": {},
   "source": [
    "convert SMILES to InchiKeys"
   ]
  },
  {
   "cell_type": "code",
   "execution_count": 12,
   "metadata": {},
   "outputs": [],
   "source": [
    "! molconvert inchikey:SAbs SMILES.csv{csv:strucSMILES} -o InchiKeys.txt"
   ]
  },
  {
   "cell_type": "code",
   "execution_count": 13,
   "metadata": {},
   "outputs": [],
   "source": [
    "ikeys = pd.read_csv(\"InchiKeys.txt\",  sep='\\t',header = None)\n",
    "\n",
    "out['df'][\"inchikey\"] = ikeys\n",
    "inchi_dic = make_inchidic(out)\n",
    "\n",
    "ikeys.columns = [\"InChIKey\"]\n",
    "ikeys.to_csv(\"InchiKeys.txt\", quoting=csv.QUOTE_NONE, escapechar='&')"
   ]
  },
  {
   "cell_type": "markdown",
   "metadata": {},
   "source": [
    "retrieve ClassyFire classifcations"
   ]
  },
  {
   "cell_type": "code",
   "execution_count": 14,
   "metadata": {},
   "outputs": [
    {
     "name": "stdout",
     "output_type": "stream",
     "text": [
      "1000\n"
     ]
    }
   ],
   "source": [
    "get_classifications(\"InchiKeys.txt\")"
   ]
  },
  {
   "cell_type": "code",
   "execution_count": 15,
   "metadata": {},
   "outputs": [],
   "source": [
    "with open(\"all_json.json\") as tweetfile:\n",
    "    jsondic = json.loads(tweetfile.read())\n",
    "\n",
    "\n",
    "df = make_classy_table(jsondic)\n",
    "df = df.rename(columns = {'class':'CF_class','smiles':'SMILES'})\n",
    "net = pd.read_csv(netfile,  sep='\\t')\n",
    "\n",
    "\n",
    "final = molfam_classes(net,df,inchi_dic)"
   ]
  },
  {
   "cell_type": "code",
   "execution_count": 16,
   "metadata": {},
   "outputs": [
    {
     "data": {
      "text/html": [
       "<div>\n",
       "<style scoped>\n",
       "    .dataframe tbody tr th:only-of-type {\n",
       "        vertical-align: middle;\n",
       "    }\n",
       "\n",
       "    .dataframe tbody tr th {\n",
       "        vertical-align: top;\n",
       "    }\n",
       "\n",
       "    .dataframe thead th {\n",
       "        text-align: right;\n",
       "    }\n",
       "</style>\n",
       "<table border=\"1\" class=\"dataframe\">\n",
       "  <thead>\n",
       "    <tr style=\"text-align: right;\">\n",
       "      <th></th>\n",
       "      <th>cluster index</th>\n",
       "      <th>CF_componentindex</th>\n",
       "      <th>CF_NrNodes</th>\n",
       "      <th>CF_kingdom</th>\n",
       "      <th>CF_kingdom_score</th>\n",
       "      <th>CF_superclass</th>\n",
       "      <th>CF_superclass_score</th>\n",
       "      <th>CF_class</th>\n",
       "      <th>CF_class_score</th>\n",
       "      <th>CF_subclass</th>\n",
       "      <th>CF_subclass_score</th>\n",
       "      <th>CF_Dparent</th>\n",
       "      <th>CF_Dparent_score</th>\n",
       "      <th>CF_MFramework</th>\n",
       "      <th>CF_MFramework_score</th>\n",
       "    </tr>\n",
       "  </thead>\n",
       "  <tbody>\n",
       "    <tr>\n",
       "      <th>0</th>\n",
       "      <td>1</td>\n",
       "      <td>22</td>\n",
       "      <td>6</td>\n",
       "      <td>Organic compounds</td>\n",
       "      <td>0.833333</td>\n",
       "      <td>Lipids and lipid-like molecules</td>\n",
       "      <td>0.181878</td>\n",
       "      <td>Prenol lipids</td>\n",
       "      <td>0.116402</td>\n",
       "      <td>NaN</td>\n",
       "      <td>0.268849</td>\n",
       "      <td>Hybrid peptides</td>\n",
       "      <td>0.0833333</td>\n",
       "      <td>Aromatic heteropolycyclic compounds</td>\n",
       "      <td>0.548942</td>\n",
       "    </tr>\n",
       "    <tr>\n",
       "      <th>1</th>\n",
       "      <td>8</td>\n",
       "      <td>22</td>\n",
       "      <td>6</td>\n",
       "      <td>Organic compounds</td>\n",
       "      <td>0.833333</td>\n",
       "      <td>Lipids and lipid-like molecules</td>\n",
       "      <td>0.181878</td>\n",
       "      <td>Prenol lipids</td>\n",
       "      <td>0.116402</td>\n",
       "      <td>NaN</td>\n",
       "      <td>0.268849</td>\n",
       "      <td>Hybrid peptides</td>\n",
       "      <td>0.0833333</td>\n",
       "      <td>Aromatic heteropolycyclic compounds</td>\n",
       "      <td>0.548942</td>\n",
       "    </tr>\n",
       "    <tr>\n",
       "      <th>2</th>\n",
       "      <td>9</td>\n",
       "      <td>22</td>\n",
       "      <td>6</td>\n",
       "      <td>Organic compounds</td>\n",
       "      <td>0.833333</td>\n",
       "      <td>Lipids and lipid-like molecules</td>\n",
       "      <td>0.181878</td>\n",
       "      <td>Prenol lipids</td>\n",
       "      <td>0.116402</td>\n",
       "      <td>NaN</td>\n",
       "      <td>0.268849</td>\n",
       "      <td>Hybrid peptides</td>\n",
       "      <td>0.0833333</td>\n",
       "      <td>Aromatic heteropolycyclic compounds</td>\n",
       "      <td>0.548942</td>\n",
       "    </tr>\n",
       "    <tr>\n",
       "      <th>3</th>\n",
       "      <td>179</td>\n",
       "      <td>22</td>\n",
       "      <td>6</td>\n",
       "      <td>Organic compounds</td>\n",
       "      <td>0.833333</td>\n",
       "      <td>Lipids and lipid-like molecules</td>\n",
       "      <td>0.181878</td>\n",
       "      <td>Prenol lipids</td>\n",
       "      <td>0.116402</td>\n",
       "      <td>NaN</td>\n",
       "      <td>0.268849</td>\n",
       "      <td>Hybrid peptides</td>\n",
       "      <td>0.0833333</td>\n",
       "      <td>Aromatic heteropolycyclic compounds</td>\n",
       "      <td>0.548942</td>\n",
       "    </tr>\n",
       "    <tr>\n",
       "      <th>4</th>\n",
       "      <td>219</td>\n",
       "      <td>22</td>\n",
       "      <td>6</td>\n",
       "      <td>Organic compounds</td>\n",
       "      <td>0.833333</td>\n",
       "      <td>Lipids and lipid-like molecules</td>\n",
       "      <td>0.181878</td>\n",
       "      <td>Prenol lipids</td>\n",
       "      <td>0.116402</td>\n",
       "      <td>NaN</td>\n",
       "      <td>0.268849</td>\n",
       "      <td>Hybrid peptides</td>\n",
       "      <td>0.0833333</td>\n",
       "      <td>Aromatic heteropolycyclic compounds</td>\n",
       "      <td>0.548942</td>\n",
       "    </tr>\n",
       "  </tbody>\n",
       "</table>\n",
       "</div>"
      ],
      "text/plain": [
       "   cluster index CF_componentindex  CF_NrNodes         CF_kingdom  \\\n",
       "0              1                22           6  Organic compounds   \n",
       "1              8                22           6  Organic compounds   \n",
       "2              9                22           6  Organic compounds   \n",
       "3            179                22           6  Organic compounds   \n",
       "4            219                22           6  Organic compounds   \n",
       "\n",
       "  CF_kingdom_score                    CF_superclass CF_superclass_score  \\\n",
       "0         0.833333  Lipids and lipid-like molecules            0.181878   \n",
       "1         0.833333  Lipids and lipid-like molecules            0.181878   \n",
       "2         0.833333  Lipids and lipid-like molecules            0.181878   \n",
       "3         0.833333  Lipids and lipid-like molecules            0.181878   \n",
       "4         0.833333  Lipids and lipid-like molecules            0.181878   \n",
       "\n",
       "        CF_class CF_class_score CF_subclass CF_subclass_score  \\\n",
       "0  Prenol lipids       0.116402         NaN          0.268849   \n",
       "1  Prenol lipids       0.116402         NaN          0.268849   \n",
       "2  Prenol lipids       0.116402         NaN          0.268849   \n",
       "3  Prenol lipids       0.116402         NaN          0.268849   \n",
       "4  Prenol lipids       0.116402         NaN          0.268849   \n",
       "\n",
       "        CF_Dparent CF_Dparent_score                        CF_MFramework  \\\n",
       "0  Hybrid peptides        0.0833333  Aromatic heteropolycyclic compounds   \n",
       "1  Hybrid peptides        0.0833333  Aromatic heteropolycyclic compounds   \n",
       "2  Hybrid peptides        0.0833333  Aromatic heteropolycyclic compounds   \n",
       "3  Hybrid peptides        0.0833333  Aromatic heteropolycyclic compounds   \n",
       "4  Hybrid peptides        0.0833333  Aromatic heteropolycyclic compounds   \n",
       "\n",
       "  CF_MFramework_score  \n",
       "0            0.548942  \n",
       "1            0.548942  \n",
       "2            0.548942  \n",
       "3            0.548942  \n",
       "4            0.548942  "
      ]
     },
     "execution_count": 16,
     "metadata": {},
     "output_type": "execute_result"
    }
   ],
   "source": [
    "final.head()"
   ]
  },
  {
   "cell_type": "markdown",
   "metadata": {},
   "source": [
    "write ClassyFire results per molecular family to file. To visualize chemical classes within the mass spectral molecular network, this file can be imported as table into Cytoscape."
   ]
  },
  {
   "cell_type": "code",
   "execution_count": 17,
   "metadata": {},
   "outputs": [],
   "source": [
    "final.to_csv(\"ClassyFireResults_Network.txt\", sep = '\\t', index = False)"
   ]
  },
  {
   "cell_type": "markdown",
   "metadata": {},
   "source": [
    "create graphML file"
   ]
  },
  {
   "cell_type": "code",
   "execution_count": 18,
   "metadata": {},
   "outputs": [],
   "source": [
    "graphMLfile = 'GNPS_output/' + [x for x in os.listdir('GNPS_output/') if 'METABOLOMICS' in x][0]"
   ]
  },
  {
   "cell_type": "code",
   "execution_count": 19,
   "metadata": {},
   "outputs": [],
   "source": [
    "graphML = read_graphml(graphMLfile)"
   ]
  },
  {
   "cell_type": "code",
   "execution_count": 20,
   "metadata": {},
   "outputs": [],
   "source": [
    "graphML_classy = make_classyfire_graphml(graphML,final)"
   ]
  },
  {
   "cell_type": "markdown",
   "metadata": {},
   "source": [
    "write graphML file"
   ]
  },
  {
   "cell_type": "code",
   "execution_count": 21,
   "metadata": {},
   "outputs": [],
   "source": [
    "nx.write_graphml(graphML_classy, \"ClassyFireResults_Network.graphml\", infer_numeric_types = True)"
   ]
  },
  {
   "cell_type": "code",
   "execution_count": null,
   "metadata": {},
   "outputs": [],
   "source": []
  }
 ],
 "metadata": {
  "kernelspec": {
   "display_name": "Python 3",
   "language": "python",
   "name": "python3"
  },
  "language_info": {
   "codemirror_mode": {
    "name": "ipython",
    "version": 3
   },
   "file_extension": ".py",
   "mimetype": "text/x-python",
   "name": "python",
   "nbconvert_exporter": "python",
   "pygments_lexer": "ipython3",
   "version": "3.6.8"
  }
 },
 "nbformat": 4,
 "nbformat_minor": 2
}
