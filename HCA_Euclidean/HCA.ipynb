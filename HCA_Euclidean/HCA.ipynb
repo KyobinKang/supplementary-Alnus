{
 "cells": [
  {
   "cell_type": "code",
   "execution_count": 16,
   "metadata": {},
   "outputs": [
    {
     "name": "stderr",
     "output_type": "stream",
     "text": [
      "\n",
      "---------------------\n",
      "Welcome to dendextend version 1.5.2\n",
      "Type citation('dendextend') for how to cite the package.\n",
      "\n",
      "Type browseVignettes(package = 'dendextend') for the package vignette.\n",
      "The github page is: https://github.com/talgalili/dendextend/\n",
      "\n",
      "Suggestions and bug-reports can be submitted at: https://github.com/talgalili/dendextend/issues\n",
      "Or contact: <tal.galili@gmail.com>\n",
      "\n",
      "\tTo suppress this message use:  suppressPackageStartupMessages(library(dendextend))\n",
      "---------------------\n",
      "\n",
      "\n",
      "Attaching package: 'dendextend'\n",
      "\n",
      "The following object is masked from 'package:stats':\n",
      "\n",
      "    cutree\n",
      "\n"
     ]
    }
   ],
   "source": [
    "library(dendextend)"
   ]
  },
  {
   "cell_type": "code",
   "execution_count": 11,
   "metadata": {},
   "outputs": [],
   "source": [
    "df <- read.csv('Alnus_quant.csv')"
   ]
  },
  {
   "cell_type": "code",
   "execution_count": 12,
   "metadata": {
    "scrolled": true
   },
   "outputs": [
    {
     "data": {
      "text/html": [
       "<table>\n",
       "<thead><tr><th scope=col>row.ID</th><th scope=col>row.m.z</th><th scope=col>row.retention.time</th><th scope=col>Af.T</th><th scope=col>Af.L</th><th scope=col>Af.F</th><th scope=col>Af.B</th><th scope=col>Ah.L</th><th scope=col>Ahv.B</th><th scope=col>Ah.T</th><th scope=col>Ah.F</th><th scope=col>Ahv.F</th><th scope=col>Ahv.T</th><th scope=col>Ahv.L</th><th scope=col>Aj.B</th><th scope=col>Aj.L</th><th scope=col>Aj.T</th><th scope=col>Aj.F</th></tr></thead>\n",
       "<tbody>\n",
       "\t<tr><td>1          </td><td>521.2015   </td><td> 5.8094    </td><td>94356.47   </td><td> 1309.903  </td><td> 2473.208  </td><td>165738.53  </td><td>  5294.4402</td><td>187542.992 </td><td>48039.91   </td><td> 1133.1423 </td><td> 23826.384 </td><td>62358.318  </td><td>  6208.370 </td><td>55591.921  </td><td> 12169.4194</td><td>35885.2618 </td><td>   443.9682</td></tr>\n",
       "\t<tr><td>2          </td><td>313.1421   </td><td> 7.1964    </td><td>56500.42   </td><td> 3480.599  </td><td> 3442.195  </td><td>156224.91  </td><td>  9836.5262</td><td> 28637.062 </td><td>30208.92   </td><td>  962.3373 </td><td> 10211.380 </td><td>55928.916  </td><td>  4905.908 </td><td>22283.084  </td><td>  7707.6103</td><td>21243.2224 </td><td>  2466.4783</td></tr>\n",
       "\t<tr><td>3          </td><td>191.0525   </td><td> 0.8311    </td><td>84356.67   </td><td>89122.171  </td><td>11819.555  </td><td> 74792.18  </td><td>164211.6796</td><td> 11677.336 </td><td>34998.10   </td><td>  593.1454 </td><td>148587.824 </td><td>90628.914  </td><td>128688.165 </td><td>11425.459  </td><td>116888.0003</td><td>92118.6479 </td><td>173002.3475</td></tr>\n",
       "\t<tr><td>4          </td><td>485.3616   </td><td>20.9064    </td><td>87234.57   </td><td>  945.145  </td><td>21064.144  </td><td> 32355.47  </td><td>   453.6797</td><td>  2624.752 </td><td>   42.90   </td><td>   56.4200 </td><td>   423.395 </td><td>   40.750  </td><td>  1862.751 </td><td> 2637.282  </td><td>   829.6499</td><td>  736.3936 </td><td>  2549.0584</td></tr>\n",
       "\t<tr><td>5          </td><td>377.0837   </td><td> 0.8187    </td><td>56431.05   </td><td>20685.250  </td><td> 6329.260  </td><td> 17404.02  </td><td> 19671.6820</td><td> 14004.957 </td><td>29182.54   </td><td>13846.2645 </td><td>  7040.106 </td><td>14207.722  </td><td>  9909.642 </td><td> 6239.297  </td><td>  8432.2078</td><td> 8685.5574 </td><td>  1775.1247</td></tr>\n",
       "\t<tr><td>6          </td><td>183.0267   </td><td> 3.2085    </td><td>31665.12   </td><td>67687.182  </td><td>33395.562  </td><td> 54163.83  </td><td> 45148.8972</td><td>  5256.472 </td><td>14845.90   </td><td>22368.5098 </td><td>134800.606 </td><td> 7690.378  </td><td>102677.491 </td><td>18686.493  </td><td> 65531.9844</td><td>63667.9516 </td><td>  6526.7682</td></tr>\n",
       "</tbody>\n",
       "</table>\n"
      ],
      "text/latex": [
       "\\begin{tabular}{r|llllllllllllllllll}\n",
       " row.ID & row.m.z & row.retention.time & Af.T & Af.L & Af.F & Af.B & Ah.L & Ahv.B & Ah.T & Ah.F & Ahv.F & Ahv.T & Ahv.L & Aj.B & Aj.L & Aj.T & Aj.F\\\\\n",
       "\\hline\n",
       "\t 1           & 521.2015    &  5.8094     & 94356.47    &  1309.903   &  2473.208   & 165738.53   &   5294.4402 & 187542.992  & 48039.91    &  1133.1423  &  23826.384  & 62358.318   &   6208.370  & 55591.921   &  12169.4194 & 35885.2618  &    443.9682\\\\\n",
       "\t 2           & 313.1421    &  7.1964     & 56500.42    &  3480.599   &  3442.195   & 156224.91   &   9836.5262 &  28637.062  & 30208.92    &   962.3373  &  10211.380  & 55928.916   &   4905.908  & 22283.084   &   7707.6103 & 21243.2224  &   2466.4783\\\\\n",
       "\t 3           & 191.0525    &  0.8311     & 84356.67    & 89122.171   & 11819.555   &  74792.18   & 164211.6796 &  11677.336  & 34998.10    &   593.1454  & 148587.824  & 90628.914   & 128688.165  & 11425.459   & 116888.0003 & 92118.6479  & 173002.3475\\\\\n",
       "\t 4           & 485.3616    & 20.9064     & 87234.57    &   945.145   & 21064.144   &  32355.47   &    453.6797 &   2624.752  &    42.90    &    56.4200  &    423.395  &    40.750   &   1862.751  &  2637.282   &    829.6499 &   736.3936  &   2549.0584\\\\\n",
       "\t 5           & 377.0837    &  0.8187     & 56431.05    & 20685.250   &  6329.260   &  17404.02   &  19671.6820 &  14004.957  & 29182.54    & 13846.2645  &   7040.106  & 14207.722   &   9909.642  &  6239.297   &   8432.2078 &  8685.5574  &   1775.1247\\\\\n",
       "\t 6           & 183.0267    &  3.2085     & 31665.12    & 67687.182   & 33395.562   &  54163.83   &  45148.8972 &   5256.472  & 14845.90    & 22368.5098  & 134800.606  &  7690.378   & 102677.491  & 18686.493   &  65531.9844 & 63667.9516  &   6526.7682\\\\\n",
       "\\end{tabular}\n"
      ],
      "text/markdown": [
       "\n",
       "| row.ID | row.m.z | row.retention.time | Af.T | Af.L | Af.F | Af.B | Ah.L | Ahv.B | Ah.T | Ah.F | Ahv.F | Ahv.T | Ahv.L | Aj.B | Aj.L | Aj.T | Aj.F |\n",
       "|---|---|---|---|---|---|---|---|---|---|---|---|---|---|---|---|---|---|\n",
       "| 1           | 521.2015    |  5.8094     | 94356.47    |  1309.903   |  2473.208   | 165738.53   |   5294.4402 | 187542.992  | 48039.91    |  1133.1423  |  23826.384  | 62358.318   |   6208.370  | 55591.921   |  12169.4194 | 35885.2618  |    443.9682 |\n",
       "| 2           | 313.1421    |  7.1964     | 56500.42    |  3480.599   |  3442.195   | 156224.91   |   9836.5262 |  28637.062  | 30208.92    |   962.3373  |  10211.380  | 55928.916   |   4905.908  | 22283.084   |   7707.6103 | 21243.2224  |   2466.4783 |\n",
       "| 3           | 191.0525    |  0.8311     | 84356.67    | 89122.171   | 11819.555   |  74792.18   | 164211.6796 |  11677.336  | 34998.10    |   593.1454  | 148587.824  | 90628.914   | 128688.165  | 11425.459   | 116888.0003 | 92118.6479  | 173002.3475 |\n",
       "| 4           | 485.3616    | 20.9064     | 87234.57    |   945.145   | 21064.144   |  32355.47   |    453.6797 |   2624.752  |    42.90    |    56.4200  |    423.395  |    40.750   |   1862.751  |  2637.282   |    829.6499 |   736.3936  |   2549.0584 |\n",
       "| 5           | 377.0837    |  0.8187     | 56431.05    | 20685.250   |  6329.260   |  17404.02   |  19671.6820 |  14004.957  | 29182.54    | 13846.2645  |   7040.106  | 14207.722   |   9909.642  |  6239.297   |   8432.2078 |  8685.5574  |   1775.1247 |\n",
       "| 6           | 183.0267    |  3.2085     | 31665.12    | 67687.182   | 33395.562   |  54163.83   |  45148.8972 |   5256.472  | 14845.90    | 22368.5098  | 134800.606  |  7690.378   | 102677.491  | 18686.493   |  65531.9844 | 63667.9516  |   6526.7682 |\n",
       "\n"
      ],
      "text/plain": [
       "  row.ID row.m.z  row.retention.time Af.T     Af.L      Af.F      Af.B     \n",
       "1 1      521.2015  5.8094            94356.47  1309.903  2473.208 165738.53\n",
       "2 2      313.1421  7.1964            56500.42  3480.599  3442.195 156224.91\n",
       "3 3      191.0525  0.8311            84356.67 89122.171 11819.555  74792.18\n",
       "4 4      485.3616 20.9064            87234.57   945.145 21064.144  32355.47\n",
       "5 5      377.0837  0.8187            56431.05 20685.250  6329.260  17404.02\n",
       "6 6      183.0267  3.2085            31665.12 67687.182 33395.562  54163.83\n",
       "  Ah.L        Ahv.B      Ah.T     Ah.F       Ahv.F      Ahv.T     Ahv.L     \n",
       "1   5294.4402 187542.992 48039.91  1133.1423  23826.384 62358.318   6208.370\n",
       "2   9836.5262  28637.062 30208.92   962.3373  10211.380 55928.916   4905.908\n",
       "3 164211.6796  11677.336 34998.10   593.1454 148587.824 90628.914 128688.165\n",
       "4    453.6797   2624.752    42.90    56.4200    423.395    40.750   1862.751\n",
       "5  19671.6820  14004.957 29182.54 13846.2645   7040.106 14207.722   9909.642\n",
       "6  45148.8972   5256.472 14845.90 22368.5098 134800.606  7690.378 102677.491\n",
       "  Aj.B      Aj.L        Aj.T       Aj.F       \n",
       "1 55591.921  12169.4194 35885.2618    443.9682\n",
       "2 22283.084   7707.6103 21243.2224   2466.4783\n",
       "3 11425.459 116888.0003 92118.6479 173002.3475\n",
       "4  2637.282    829.6499   736.3936   2549.0584\n",
       "5  6239.297   8432.2078  8685.5574   1775.1247\n",
       "6 18686.493  65531.9844 63667.9516   6526.7682"
      ]
     },
     "metadata": {},
     "output_type": "display_data"
    }
   ],
   "source": [
    "head(df)"
   ]
  },
  {
   "cell_type": "code",
   "execution_count": 13,
   "metadata": {},
   "outputs": [
    {
     "data": {
      "text/html": [
       "<table>\n",
       "<tbody>\n",
       "\t<tr><th scope=row>Af.T</th><td> 94356.466</td><td> 56500.422</td><td> 84356.67 </td><td>87234.5653</td><td>56431.05  </td><td>31665.12  </td><td>68480.794 </td><td> 38392.390</td><td>44416.9236</td><td>86664.400 </td></tr>\n",
       "\t<tr><th scope=row>Af.L</th><td>  1309.903</td><td>  3480.599</td><td> 89122.17 </td><td>  945.1450</td><td>20685.25  </td><td>67687.18  </td><td>21301.974 </td><td>     0.000</td><td>  420.8367</td><td>54303.564 </td></tr>\n",
       "\t<tr><th scope=row>Af.F</th><td>  2473.208</td><td>  3442.195</td><td> 11819.55 </td><td>21064.1437</td><td> 6329.26  </td><td>33395.56  </td><td> 9972.352 </td><td>     0.000</td><td>  742.2922</td><td>53816.882 </td></tr>\n",
       "\t<tr><th scope=row>Af.B</th><td>165738.529</td><td>156224.914</td><td> 74792.18 </td><td>32355.4686</td><td>17404.02  </td><td>54163.83  </td><td>26211.166 </td><td>105594.009</td><td>76302.2067</td><td>71325.588 </td></tr>\n",
       "\t<tr><th scope=row>Ah.L</th><td>  5294.440</td><td>  9836.526</td><td>164211.68 </td><td>  453.6797</td><td>19671.68  </td><td>45148.90  </td><td>   47.750 </td><td>    27.228</td><td> 1571.2458</td><td> 6371.587 </td></tr>\n",
       "</tbody>\n",
       "</table>\n"
      ],
      "text/latex": [
       "\\begin{tabular}{r|llllllllll}\n",
       "\tAf.T &  94356.466 &  56500.422 &  84356.67  & 87234.5653 & 56431.05   & 31665.12   & 68480.794  &  38392.390 & 44416.9236 & 86664.400 \\\\\n",
       "\tAf.L &   1309.903 &   3480.599 &  89122.17  &   945.1450 & 20685.25   & 67687.18   & 21301.974  &      0.000 &   420.8367 & 54303.564 \\\\\n",
       "\tAf.F &   2473.208 &   3442.195 &  11819.55  & 21064.1437 &  6329.26   & 33395.56   &  9972.352  &      0.000 &   742.2922 & 53816.882 \\\\\n",
       "\tAf.B & 165738.529 & 156224.914 &  74792.18  & 32355.4686 & 17404.02   & 54163.83   & 26211.166  & 105594.009 & 76302.2067 & 71325.588 \\\\\n",
       "\tAh.L &   5294.440 &   9836.526 & 164211.68  &   453.6797 & 19671.68   & 45148.90   &    47.750  &     27.228 &  1571.2458 &  6371.587 \\\\\n",
       "\\end{tabular}\n"
      ],
      "text/markdown": [
       "\n",
       "| Af.T |  94356.466 |  56500.422 |  84356.67  | 87234.5653 | 56431.05   | 31665.12   | 68480.794  |  38392.390 | 44416.9236 | 86664.400  |\n",
       "| Af.L |   1309.903 |   3480.599 |  89122.17  |   945.1450 | 20685.25   | 67687.18   | 21301.974  |      0.000 |   420.8367 | 54303.564  |\n",
       "| Af.F |   2473.208 |   3442.195 |  11819.55  | 21064.1437 |  6329.26   | 33395.56   |  9972.352  |      0.000 |   742.2922 | 53816.882  |\n",
       "| Af.B | 165738.529 | 156224.914 |  74792.18  | 32355.4686 | 17404.02   | 54163.83   | 26211.166  | 105594.009 | 76302.2067 | 71325.588  |\n",
       "| Ah.L |   5294.440 |   9836.526 | 164211.68  |   453.6797 | 19671.68   | 45148.90   |    47.750  |     27.228 |  1571.2458 |  6371.587  |\n",
       "\n"
      ],
      "text/plain": [
       "     [,1]       [,2]       [,3]      [,4]       [,5]     [,6]     [,7]     \n",
       "Af.T  94356.466  56500.422  84356.67 87234.5653 56431.05 31665.12 68480.794\n",
       "Af.L   1309.903   3480.599  89122.17   945.1450 20685.25 67687.18 21301.974\n",
       "Af.F   2473.208   3442.195  11819.55 21064.1437  6329.26 33395.56  9972.352\n",
       "Af.B 165738.529 156224.914  74792.18 32355.4686 17404.02 54163.83 26211.166\n",
       "Ah.L   5294.440   9836.526 164211.68   453.6797 19671.68 45148.90    47.750\n",
       "     [,8]       [,9]       [,10]    \n",
       "Af.T  38392.390 44416.9236 86664.400\n",
       "Af.L      0.000   420.8367 54303.564\n",
       "Af.F      0.000   742.2922 53816.882\n",
       "Af.B 105594.009 76302.2067 71325.588\n",
       "Ah.L     27.228  1571.2458  6371.587"
      ]
     },
     "metadata": {},
     "output_type": "display_data"
    }
   ],
   "source": [
    "result <- t(df[,-c(1:3)])\n",
    "result[1:5,1:10]"
   ]
  },
  {
   "cell_type": "code",
   "execution_count": 14,
   "metadata": {},
   "outputs": [],
   "source": [
    "d <- dist(result, method = \"euclidean\")"
   ]
  },
  {
   "cell_type": "code",
   "execution_count": 7,
   "metadata": {},
   "outputs": [],
   "source": [
    "hc <- hclust(d)"
   ]
  },
  {
   "cell_type": "code",
   "execution_count": 22,
   "metadata": {},
   "outputs": [
    {
     "data": {
      "image/png": "[encoded data removed]",
      "text/plain": [
       "plot without title"
      ]
     },
     "metadata": {},
     "output_type": "display_data"
    }
   ],
   "source": [
    "dend <- d %>% as.dist %>%\n",
    "   hclust %>% as.dendrogram %>%\n",
    "   set(\"branches_lwd\", 2.0) %>%\n",
    "   set(\"labels_cex\", c(0.6)) %>% \n",
    "   set(\"leaves_cex\", 0.5) %>%  # node point size\n",
    "   set(\"leaves_pch\", 19)\n",
    "plot(dend)"
   ]
  },
  {
   "cell_type": "code",
   "execution_count": 10,
   "metadata": {},
   "outputs": [
    {
     "data": {
      "image/png": "[encoded data removed]",
      "text/plain": [
       "Plot with title \"Cluster Dendrogram\""
      ]
     },
     "metadata": {},
     "output_type": "display_data"
    }
   ],
   "source": [
    "plot(hc, hang = -1, cex = 0.8)"
   ]
  },
  {
   "cell_type": "code",
   "execution_count": null,
   "metadata": {},
   "outputs": [],
   "source": []
  }
 ],
 "metadata": {
  "kernelspec": {
   "display_name": "R",
   "language": "R",
   "name": "ir"
  },
  "language_info": {
   "codemirror_mode": "r",
   "file_extension": ".r",
   "mimetype": "text/x-r-source",
   "name": "R",
   "pygments_lexer": "r",
   "version": "3.4.3"
  }
 },
 "nbformat": 4,
 "nbformat_minor": 2
}
