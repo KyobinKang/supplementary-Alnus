{
 "cells": [
  {
   "cell_type": "markdown",
   "metadata": {
    "collapsed": true
   },
   "source": [
    "# Create PCoA plot in Emperor with CSCS distance matrix"
   ]
  },
  {
   "cell_type": "markdown",
   "metadata": {},
   "source": [
    "**Author**: Madeleine Ernst (mernst@ucsd.edu) <br>\n",
    "**Edited by**: - <br>\n",
    "**Use case**: Takes CSCS distance matrix output from CSCS_DistanceMatrix.ipynb and creates a PCoA plot in Emperor with provided metadata. <br>\n",
    "**Input file format**: <br>\n",
    "<ul>\n",
    "<li>**Distance matrix** (.txt) output from CSCS_DistanceMatrix.ipynb </li>\n",
    "<li>**Feature table** (.csv) with features in rows and samples in columns. This corresponds to the MZmine output table, selecting only features with associated MS2 data. </li> \n",
    "<li>**Metadata table** (.csv) file with sample names in rows and associated metadata in columns. </li>\n",
    "</ul>\n",
    "**Outputs**: 2D PCoA and Emperor plot using CSCS as distance metric. <br>\n",
    "**Dependencies**: R version 3.4.2 (2017-09-28) and libraries stringr_1.2.0, ggplot2_2.2.1, igraph_1.1.2, spaa_0.2.2,  vegan_2.4-4, lattice_0.20-29 permute_0.9-4  "
   ]
  },
  {
   "cell_type": "code",
   "execution_count": 2,
   "metadata": {
    "scrolled": true
   },
   "outputs": [
    {
     "name": "stderr",
     "output_type": "stream",
     "text": [
      "Loading required package: permute\n",
      "Loading required package: lattice\n",
      "This is vegan 2.5-4\n",
      "\n",
      "Attaching package: ‘igraph’\n",
      "\n",
      "The following object is masked from ‘package:vegan’:\n",
      "\n",
      "    diversity\n",
      "\n",
      "The following object is masked from ‘package:permute’:\n",
      "\n",
      "    permute\n",
      "\n",
      "The following objects are masked from ‘package:stats’:\n",
      "\n",
      "    decompose, spectrum\n",
      "\n",
      "The following object is masked from ‘package:base’:\n",
      "\n",
      "    union\n",
      "\n"
     ]
    }
   ],
   "source": [
    "library(vegan)\n",
    "library(spaa)\n",
    "library(igraph) \n",
    "library(ggplot2)\n",
    "library(stringr)"
   ]
  },
  {
   "cell_type": "markdown",
   "metadata": {},
   "source": [
    "Specify the name of your CSCS distance matrix"
   ]
  },
  {
   "cell_type": "code",
   "execution_count": 3,
   "metadata": {},
   "outputs": [
    {
     "data": {
      "text/html": [
       "<table>\n",
       "<thead><tr><th scope=col>X</th><th scope=col>Af.T</th><th scope=col>Af.L</th><th scope=col>Af.F</th><th scope=col>Af.B</th></tr></thead>\n",
       "<tbody>\n",
       "\t<tr><td>Af-T       </td><td>0.000000000</td><td>0.02185740 </td><td>0.02615090 </td><td>0.002314799</td></tr>\n",
       "\t<tr><td>Af-L       </td><td>0.021857396</td><td>0.00000000 </td><td>0.04440622 </td><td>0.020174439</td></tr>\n",
       "\t<tr><td>Af-F       </td><td>0.026150897</td><td>0.04440622 </td><td>0.00000000 </td><td>0.015647398</td></tr>\n",
       "\t<tr><td>Af-B       </td><td>0.002314799</td><td>0.02017444 </td><td>0.01564740 </td><td>0.000000000</td></tr>\n",
       "\t<tr><td>Ah-L       </td><td>0.061715480</td><td>0.03477398 </td><td>0.08705237 </td><td>0.052800540</td></tr>\n",
       "</tbody>\n",
       "</table>\n"
      ],
      "text/latex": [
       "\\begin{tabular}{r|lllll}\n",
       " X & Af.T & Af.L & Af.F & Af.B\\\\\n",
       "\\hline\n",
       "\t Af-T        & 0.000000000 & 0.02185740  & 0.02615090  & 0.002314799\\\\\n",
       "\t Af-L        & 0.021857396 & 0.00000000  & 0.04440622  & 0.020174439\\\\\n",
       "\t Af-F        & 0.026150897 & 0.04440622  & 0.00000000  & 0.015647398\\\\\n",
       "\t Af-B        & 0.002314799 & 0.02017444  & 0.01564740  & 0.000000000\\\\\n",
       "\t Ah-L        & 0.061715480 & 0.03477398  & 0.08705237  & 0.052800540\\\\\n",
       "\\end{tabular}\n"
      ],
      "text/markdown": [
       "\n",
       "| X | Af.T | Af.L | Af.F | Af.B |\n",
       "|---|---|---|---|---|\n",
       "| Af-T        | 0.000000000 | 0.02185740  | 0.02615090  | 0.002314799 |\n",
       "| Af-L        | 0.021857396 | 0.00000000  | 0.04440622  | 0.020174439 |\n",
       "| Af-F        | 0.026150897 | 0.04440622  | 0.00000000  | 0.015647398 |\n",
       "| Af-B        | 0.002314799 | 0.02017444  | 0.01564740  | 0.000000000 |\n",
       "| Ah-L        | 0.061715480 | 0.03477398  | 0.08705237  | 0.052800540 |\n",
       "\n"
      ],
      "text/plain": [
       "  X    Af.T        Af.L       Af.F       Af.B       \n",
       "1 Af-T 0.000000000 0.02185740 0.02615090 0.002314799\n",
       "2 Af-L 0.021857396 0.00000000 0.04440622 0.020174439\n",
       "3 Af-F 0.026150897 0.04440622 0.00000000 0.015647398\n",
       "4 Af-B 0.002314799 0.02017444 0.01564740 0.000000000\n",
       "5 Ah-L 0.061715480 0.03477398 0.08705237 0.052800540"
      ]
     },
     "metadata": {},
     "output_type": "display_data"
    }
   ],
   "source": [
    "dist <- read.table(\"NamedDistanceMatrix.txt\",sep=\"\\t\", header = T)\n",
    "dist[1:5,1:5]\n",
    "#colnames(dist)\n",
    "#rownames(dist)\n",
    "#dist[,1]"
   ]
  },
  {
   "cell_type": "code",
   "execution_count": 4,
   "metadata": {},
   "outputs": [
    {
     "data": {
      "text/html": [
       "<ol class=list-inline>\n",
       "\t<li>15</li>\n",
       "\t<li>16</li>\n",
       "</ol>\n"
      ],
      "text/latex": [
       "\\begin{enumerate*}\n",
       "\\item 15\n",
       "\\item 16\n",
       "\\end{enumerate*}\n"
      ],
      "text/markdown": [
       "1. 15\n",
       "2. 16\n",
       "\n",
       "\n"
      ],
      "text/plain": [
       "[1] 15 16"
      ]
     },
     "metadata": {},
     "output_type": "display_data"
    },
    {
     "data": {
      "text/html": [
       "<table>\n",
       "<thead><tr><th></th><th scope=col></th><th scope=col>Af.T</th><th scope=col>Af.L</th><th scope=col>Af.F</th><th scope=col>Af.B</th></tr></thead>\n",
       "<tbody>\n",
       "\t<tr><th scope=row>Af.T</th><td>Af.T       </td><td>0.000000000</td><td>0.02185740 </td><td>0.02615090 </td><td>0.002314799</td></tr>\n",
       "\t<tr><th scope=row>Af.L</th><td>Af.L       </td><td>0.021857396</td><td>0.00000000 </td><td>0.04440622 </td><td>0.020174439</td></tr>\n",
       "\t<tr><th scope=row>Af.F</th><td>Af.F       </td><td>0.026150897</td><td>0.04440622 </td><td>0.00000000 </td><td>0.015647398</td></tr>\n",
       "\t<tr><th scope=row>Af.B</th><td>Af.B       </td><td>0.002314799</td><td>0.02017444 </td><td>0.01564740 </td><td>0.000000000</td></tr>\n",
       "\t<tr><th scope=row>Ah.L</th><td>Ah.L       </td><td>0.061715480</td><td>0.03477398 </td><td>0.08705237 </td><td>0.052800540</td></tr>\n",
       "</tbody>\n",
       "</table>\n"
      ],
      "text/latex": [
       "\\begin{tabular}{r|lllll}\n",
       "  &  & Af.T & Af.L & Af.F & Af.B\\\\\n",
       "\\hline\n",
       "\tAf.T & Af.T        & 0.000000000 & 0.02185740  & 0.02615090  & 0.002314799\\\\\n",
       "\tAf.L & Af.L        & 0.021857396 & 0.00000000  & 0.04440622  & 0.020174439\\\\\n",
       "\tAf.F & Af.F        & 0.026150897 & 0.04440622  & 0.00000000  & 0.015647398\\\\\n",
       "\tAf.B & Af.B        & 0.002314799 & 0.02017444  & 0.01564740  & 0.000000000\\\\\n",
       "\tAh.L & Ah.L        & 0.061715480 & 0.03477398  & 0.08705237  & 0.052800540\\\\\n",
       "\\end{tabular}\n"
      ],
      "text/markdown": [
       "\n",
       "| <!--/--> |  | Af.T | Af.L | Af.F | Af.B |\n",
       "|---|---|---|---|---|---|\n",
       "| Af.T | Af.T        | 0.000000000 | 0.02185740  | 0.02615090  | 0.002314799 |\n",
       "| Af.L | Af.L        | 0.021857396 | 0.00000000  | 0.04440622  | 0.020174439 |\n",
       "| Af.F | Af.F        | 0.026150897 | 0.04440622  | 0.00000000  | 0.015647398 |\n",
       "| Af.B | Af.B        | 0.002314799 | 0.02017444  | 0.01564740  | 0.000000000 |\n",
       "| Ah.L | Ah.L        | 0.061715480 | 0.03477398  | 0.08705237  | 0.052800540 |\n",
       "\n"
      ],
      "text/plain": [
       "          Af.T        Af.L       Af.F       Af.B       \n",
       "Af.T Af.T 0.000000000 0.02185740 0.02615090 0.002314799\n",
       "Af.L Af.L 0.021857396 0.00000000 0.04440622 0.020174439\n",
       "Af.F Af.F 0.026150897 0.04440622 0.00000000 0.015647398\n",
       "Af.B Af.B 0.002314799 0.02017444 0.01564740 0.000000000\n",
       "Ah.L Ah.L 0.061715480 0.03477398 0.08705237 0.052800540"
      ]
     },
     "metadata": {},
     "output_type": "display_data"
    }
   ],
   "source": [
    "rownames(dist)  <- as.character(dist[,1])\n",
    "rownames(dist) <- gsub(\"-\", \".\", rownames(dist))\n",
    "dist[,1] <- rownames(dist)\n",
    "colnames(dist) <- gsub(\"_\", \".\", colnames(dist))\n",
    "colnames(dist)[1]  <- \"\"\n",
    "\n",
    "cscs_mds <- cmdscale(dist[,-1],3)\n",
    "\n",
    "dim(dist)\n",
    "dist[1:5,1:5]\n",
    "#colnames(dist)\n",
    "#rownames(dist)"
   ]
  },
  {
   "cell_type": "code",
   "execution_count": 5,
   "metadata": {},
   "outputs": [],
   "source": [
    "write.table(dist, \"dist_Emperor_Alnus.txt\", sep=\"\\t\", row.names = FALSE, quote = FALSE)"
   ]
  },
  {
   "cell_type": "markdown",
   "metadata": {},
   "source": [
    "Specify the name of your feature table"
   ]
  },
  {
   "cell_type": "code",
   "execution_count": 6,
   "metadata": {},
   "outputs": [
    {
     "data": {
      "text/html": [
       "<table>\n",
       "<thead><tr><th scope=col>row.ID</th><th scope=col>Af.T</th><th scope=col>Af.L</th><th scope=col>Af.F</th><th scope=col>Af.B</th></tr></thead>\n",
       "<tbody>\n",
       "\t<tr><td>1        </td><td>94356.47 </td><td> 1309.903</td><td> 2473.208</td><td>165738.53</td></tr>\n",
       "\t<tr><td>2        </td><td>56500.42 </td><td> 3480.599</td><td> 3442.195</td><td>156224.91</td></tr>\n",
       "\t<tr><td>3        </td><td>84356.67 </td><td>89122.171</td><td>11819.555</td><td> 74792.18</td></tr>\n",
       "\t<tr><td>4        </td><td>87234.57 </td><td>  945.145</td><td>21064.144</td><td> 32355.47</td></tr>\n",
       "\t<tr><td>5        </td><td>56431.05 </td><td>20685.250</td><td> 6329.260</td><td> 17404.02</td></tr>\n",
       "</tbody>\n",
       "</table>\n"
      ],
      "text/latex": [
       "\\begin{tabular}{r|lllll}\n",
       " row.ID & Af.T & Af.L & Af.F & Af.B\\\\\n",
       "\\hline\n",
       "\t 1         & 94356.47  &  1309.903 &  2473.208 & 165738.53\\\\\n",
       "\t 2         & 56500.42  &  3480.599 &  3442.195 & 156224.91\\\\\n",
       "\t 3         & 84356.67  & 89122.171 & 11819.555 &  74792.18\\\\\n",
       "\t 4         & 87234.57  &   945.145 & 21064.144 &  32355.47\\\\\n",
       "\t 5         & 56431.05  & 20685.250 &  6329.260 &  17404.02\\\\\n",
       "\\end{tabular}\n"
      ],
      "text/markdown": [
       "\n",
       "| row.ID | Af.T | Af.L | Af.F | Af.B |\n",
       "|---|---|---|---|---|\n",
       "| 1         | 94356.47  |  1309.903 |  2473.208 | 165738.53 |\n",
       "| 2         | 56500.42  |  3480.599 |  3442.195 | 156224.91 |\n",
       "| 3         | 84356.67  | 89122.171 | 11819.555 |  74792.18 |\n",
       "| 4         | 87234.57  |   945.145 | 21064.144 |  32355.47 |\n",
       "| 5         | 56431.05  | 20685.250 |  6329.260 |  17404.02 |\n",
       "\n"
      ],
      "text/plain": [
       "  row.ID Af.T     Af.L      Af.F      Af.B     \n",
       "1 1      94356.47  1309.903  2473.208 165738.53\n",
       "2 2      56500.42  3480.599  3442.195 156224.91\n",
       "3 3      84356.67 89122.171 11819.555  74792.18\n",
       "4 4      87234.57   945.145 21064.144  32355.47\n",
       "5 5      56431.05 20685.250  6329.260  17404.02"
      ]
     },
     "metadata": {},
     "output_type": "display_data"
    }
   ],
   "source": [
    "fet <- read.csv(\"Alnus_quant.csv\",check.names = T)\n",
    "#colnames(fet)\n",
    "fet[1:5,1:5]"
   ]
  },
  {
   "cell_type": "markdown",
   "metadata": {},
   "source": [
    "Specify the name of your metadata table"
   ]
  },
  {
   "cell_type": "code",
   "execution_count": 7,
   "metadata": {},
   "outputs": [],
   "source": [
    "met <- read.csv(\"Alnus_Metadata.csv\", sep=\";\")"
   ]
  },
  {
   "cell_type": "code",
   "execution_count": 9,
   "metadata": {},
   "outputs": [
    {
     "data": {
      "text/html": [
       "<table>\n",
       "<thead><tr><th scope=col>SampleNames</th><th scope=col>Species</th><th scope=col>PlantPart</th></tr></thead>\n",
       "<tbody>\n",
       "\t<tr><td>Af.T                      </td><td>Alnus_firma               </td><td>Twigs                     </td></tr>\n",
       "\t<tr><td>Af.L                      </td><td>Alnus_firma               </td><td>Leaves                    </td></tr>\n",
       "\t<tr><td>Af.B                      </td><td>Alnus_firma               </td><td>Barks                     </td></tr>\n",
       "\t<tr><td>Af.F                      </td><td>Alnus_firma               </td><td>Fruits                    </td></tr>\n",
       "\t<tr><td>Aj.T                      </td><td>Alnus_japonica            </td><td>Twigs                     </td></tr>\n",
       "\t<tr><td>Aj.L                      </td><td>Alnus_japonica            </td><td>Leaves                    </td></tr>\n",
       "\t<tr><td>Aj.F                      </td><td>Alnus_japonica            </td><td>Fruits                    </td></tr>\n",
       "\t<tr><td>Aj.B                      </td><td>Alnus_japonica            </td><td>Barks                     </td></tr>\n",
       "\t<tr><td>Ah.T                      </td><td>Alnus_hirtusa             </td><td>Twigs                     </td></tr>\n",
       "\t<tr><td>Ah.L                      </td><td>Alnus_hirtusa             </td><td>Leaves                    </td></tr>\n",
       "\t<tr><td>Ah.F                      </td><td>Alnus_hirtusa             </td><td>Fruits                    </td></tr>\n",
       "\t<tr><td>Ahv.T                     </td><td>Alnus_hirtusa_var_sibirica</td><td>Twigs                     </td></tr>\n",
       "\t<tr><td>Ahv.L                     </td><td>Alnus_hirtusa_var_sibirica</td><td>Leaves                    </td></tr>\n",
       "\t<tr><td>Ahv.F                     </td><td>Alnus_hirtusa_var_sibirica</td><td>Fruits                    </td></tr>\n",
       "\t<tr><td>Ahv.B                     </td><td>Alnus_hirtusa_var_sibirica</td><td>Barks                     </td></tr>\n",
       "</tbody>\n",
       "</table>\n"
      ],
      "text/latex": [
       "\\begin{tabular}{r|lll}\n",
       " SampleNames & Species & PlantPart\\\\\n",
       "\\hline\n",
       "\t Af.T                         & Alnus\\_firma                & Twigs                       \\\\\n",
       "\t Af.L                         & Alnus\\_firma                & Leaves                      \\\\\n",
       "\t Af.B                         & Alnus\\_firma                & Barks                       \\\\\n",
       "\t Af.F                         & Alnus\\_firma                & Fruits                      \\\\\n",
       "\t Aj.T                         & Alnus\\_japonica             & Twigs                       \\\\\n",
       "\t Aj.L                         & Alnus\\_japonica             & Leaves                      \\\\\n",
       "\t Aj.F                         & Alnus\\_japonica             & Fruits                      \\\\\n",
       "\t Aj.B                         & Alnus\\_japonica             & Barks                       \\\\\n",
       "\t Ah.T                         & Alnus\\_hirtusa              & Twigs                       \\\\\n",
       "\t Ah.L                         & Alnus\\_hirtusa              & Leaves                      \\\\\n",
       "\t Ah.F                         & Alnus\\_hirtusa              & Fruits                      \\\\\n",
       "\t Ahv.T                            & Alnus\\_hirtusa\\_var\\_sibirica & Twigs                           \\\\\n",
       "\t Ahv.L                            & Alnus\\_hirtusa\\_var\\_sibirica & Leaves                          \\\\\n",
       "\t Ahv.F                            & Alnus\\_hirtusa\\_var\\_sibirica & Fruits                          \\\\\n",
       "\t Ahv.B                            & Alnus\\_hirtusa\\_var\\_sibirica & Barks                           \\\\\n",
       "\\end{tabular}\n"
      ],
      "text/markdown": [
       "\n",
       "| SampleNames | Species | PlantPart |\n",
       "|---|---|---|\n",
       "| Af.T                       | Alnus_firma                | Twigs                      |\n",
       "| Af.L                       | Alnus_firma                | Leaves                     |\n",
       "| Af.B                       | Alnus_firma                | Barks                      |\n",
       "| Af.F                       | Alnus_firma                | Fruits                     |\n",
       "| Aj.T                       | Alnus_japonica             | Twigs                      |\n",
       "| Aj.L                       | Alnus_japonica             | Leaves                     |\n",
       "| Aj.F                       | Alnus_japonica             | Fruits                     |\n",
       "| Aj.B                       | Alnus_japonica             | Barks                      |\n",
       "| Ah.T                       | Alnus_hirtusa              | Twigs                      |\n",
       "| Ah.L                       | Alnus_hirtusa              | Leaves                     |\n",
       "| Ah.F                       | Alnus_hirtusa              | Fruits                     |\n",
       "| Ahv.T                      | Alnus_hirtusa_var_sibirica | Twigs                      |\n",
       "| Ahv.L                      | Alnus_hirtusa_var_sibirica | Leaves                     |\n",
       "| Ahv.F                      | Alnus_hirtusa_var_sibirica | Fruits                     |\n",
       "| Ahv.B                      | Alnus_hirtusa_var_sibirica | Barks                      |\n",
       "\n"
      ],
      "text/plain": [
       "   SampleNames Species                    PlantPart\n",
       "1  Af.T        Alnus_firma                Twigs    \n",
       "2  Af.L        Alnus_firma                Leaves   \n",
       "3  Af.B        Alnus_firma                Barks    \n",
       "4  Af.F        Alnus_firma                Fruits   \n",
       "5  Aj.T        Alnus_japonica             Twigs    \n",
       "6  Aj.L        Alnus_japonica             Leaves   \n",
       "7  Aj.F        Alnus_japonica             Fruits   \n",
       "8  Aj.B        Alnus_japonica             Barks    \n",
       "9  Ah.T        Alnus_hirtusa              Twigs    \n",
       "10 Ah.L        Alnus_hirtusa              Leaves   \n",
       "11 Ah.F        Alnus_hirtusa              Fruits   \n",
       "12 Ahv.T       Alnus_hirtusa_var_sibirica Twigs    \n",
       "13 Ahv.L       Alnus_hirtusa_var_sibirica Leaves   \n",
       "14 Ahv.F       Alnus_hirtusa_var_sibirica Fruits   \n",
       "15 Ahv.B       Alnus_hirtusa_var_sibirica Barks    "
      ]
     },
     "metadata": {},
     "output_type": "display_data"
    }
   ],
   "source": [
    "met$SampleNames <- gsub(\"-\", \".\", met$SampleNames)\n",
    "#met$SampleNames <- gsub(\".mzXML\",\"\",met$SampleNames)\n",
    "met"
   ]
  },
  {
   "cell_type": "markdown",
   "metadata": {},
   "source": [
    "Check whether all sample names in your metadata table correspond to the sample names in the feature table"
   ]
  },
  {
   "cell_type": "code",
   "execution_count": 10,
   "metadata": {},
   "outputs": [
    {
     "name": "stdout",
     "output_type": "stream",
     "text": [
      " [1]  2  3  4  5  6  7  8  9 10 11 12 13 14 15 16\n"
     ]
    },
    {
     "data": {
      "text/html": [
       "15"
      ],
      "text/latex": [
       "15"
      ],
      "text/markdown": [
       "15"
      ],
      "text/plain": [
       "[1] 15"
      ]
     },
     "metadata": {},
     "output_type": "display_data"
    }
   ],
   "source": [
    "x <- which(colnames(fet) %in% met$SampleNames)\n",
    "print(x)\n",
    "length(x)"
   ]
  },
  {
   "cell_type": "code",
   "execution_count": 11,
   "metadata": {},
   "outputs": [
    {
     "data": {
      "text/html": [
       "<table>\n",
       "<thead><tr><th></th><th scope=col>SampleNames</th><th scope=col>1</th><th scope=col>2</th><th scope=col>3</th><th scope=col>4</th></tr></thead>\n",
       "<tbody>\n",
       "\t<tr><th scope=row>Af.T</th><td>Af.T       </td><td>94356.46559</td><td>56500.42225</td><td>84356.66516</td><td>87234.56531</td></tr>\n",
       "\t<tr><th scope=row>Af.L</th><td>Af.L       </td><td>1309.902808</td><td>3480.599078</td><td>89122.17053</td><td>945.145    </td></tr>\n",
       "\t<tr><th scope=row>Af.F</th><td>Af.F       </td><td>2473.208147</td><td>3442.19533 </td><td>11819.55489</td><td>21064.14375</td></tr>\n",
       "\t<tr><th scope=row>Af.B</th><td>Af.B       </td><td>165738.529 </td><td>156224.9143</td><td>74792.17662</td><td>32355.46857</td></tr>\n",
       "\t<tr><th scope=row>Ah.L</th><td>Ah.L       </td><td>5294.440152</td><td>9836.52617 </td><td>164211.6796</td><td>453.6797168</td></tr>\n",
       "</tbody>\n",
       "</table>\n"
      ],
      "text/latex": [
       "\\begin{tabular}{r|lllll}\n",
       "  & SampleNames & 1 & 2 & 3 & 4\\\\\n",
       "\\hline\n",
       "\tAf.T & Af.T        & 94356.46559 & 56500.42225 & 84356.66516 & 87234.56531\\\\\n",
       "\tAf.L & Af.L        & 1309.902808 & 3480.599078 & 89122.17053 & 945.145    \\\\\n",
       "\tAf.F & Af.F        & 2473.208147 & 3442.19533  & 11819.55489 & 21064.14375\\\\\n",
       "\tAf.B & Af.B        & 165738.529  & 156224.9143 & 74792.17662 & 32355.46857\\\\\n",
       "\tAh.L & Ah.L        & 5294.440152 & 9836.52617  & 164211.6796 & 453.6797168\\\\\n",
       "\\end{tabular}\n"
      ],
      "text/markdown": [
       "\n",
       "| <!--/--> | SampleNames | 1 | 2 | 3 | 4 |\n",
       "|---|---|---|---|---|---|\n",
       "| Af.T | Af.T        | 94356.46559 | 56500.42225 | 84356.66516 | 87234.56531 |\n",
       "| Af.L | Af.L        | 1309.902808 | 3480.599078 | 89122.17053 | 945.145     |\n",
       "| Af.F | Af.F        | 2473.208147 | 3442.19533  | 11819.55489 | 21064.14375 |\n",
       "| Af.B | Af.B        | 165738.529  | 156224.9143 | 74792.17662 | 32355.46857 |\n",
       "| Ah.L | Ah.L        | 5294.440152 | 9836.52617  | 164211.6796 | 453.6797168 |\n",
       "\n"
      ],
      "text/plain": [
       "     SampleNames 1           2           3           4          \n",
       "Af.T Af.T        94356.46559 56500.42225 84356.66516 87234.56531\n",
       "Af.L Af.L        1309.902808 3480.599078 89122.17053 945.145    \n",
       "Af.F Af.F        2473.208147 3442.19533  11819.55489 21064.14375\n",
       "Af.B Af.B        165738.529  156224.9143 74792.17662 32355.46857\n",
       "Ah.L Ah.L        5294.440152 9836.52617  164211.6796 453.6797168"
      ]
     },
     "metadata": {},
     "output_type": "display_data"
    },
    {
     "data": {
      "text/html": [
       "<ol class=list-inline>\n",
       "\t<li>15</li>\n",
       "\t<li>532</li>\n",
       "</ol>\n"
      ],
      "text/latex": [
       "\\begin{enumerate*}\n",
       "\\item 15\n",
       "\\item 532\n",
       "\\end{enumerate*}\n"
      ],
      "text/markdown": [
       "1. 15\n",
       "2. 532\n",
       "\n",
       "\n"
      ],
      "text/plain": [
       "[1]  15 532"
      ]
     },
     "metadata": {},
     "output_type": "display_data"
    },
    {
     "data": {
      "text/html": [
       "<ol class=list-inline>\n",
       "\t<li>'data.frame'</li>\n",
       "\t<li>'list'</li>\n",
       "\t<li>'oldClass'</li>\n",
       "\t<li>'vector'</li>\n",
       "\t<li>'listOrNULL'</li>\n",
       "</ol>\n"
      ],
      "text/latex": [
       "\\begin{enumerate*}\n",
       "\\item 'data.frame'\n",
       "\\item 'list'\n",
       "\\item 'oldClass'\n",
       "\\item 'vector'\n",
       "\\item 'listOrNULL'\n",
       "\\end{enumerate*}\n"
      ],
      "text/markdown": [
       "1. 'data.frame'\n",
       "2. 'list'\n",
       "3. 'oldClass'\n",
       "4. 'vector'\n",
       "5. 'listOrNULL'\n",
       "\n",
       "\n"
      ],
      "text/plain": [
       "[1] \"data.frame\" \"list\"       \"oldClass\"   \"vector\"     \"listOrNULL\""
      ]
     },
     "metadata": {},
     "output_type": "display_data"
    }
   ],
   "source": [
    "fet2 <- t(fet)\n",
    "colnames(fet2) <- fet2[1,]\n",
    "fet2 <- fet2[-1,]\n",
    "fet2 <- cbind(rownames(fet2),fet2)\n",
    "fet2 <- as.data.frame(fet2,stringsAsFactors=FALSE)\n",
    "colnames(fet2)[1]  <- \"SampleNames\"\n",
    "fet2[1:5,1:5]\n",
    "\n",
    "\n",
    "dim(fet2)\n",
    "is(fet2)"
   ]
  },
  {
   "cell_type": "code",
   "execution_count": 12,
   "metadata": {},
   "outputs": [
    {
     "data": {
      "text/html": [
       "15"
      ],
      "text/latex": [
       "15"
      ],
      "text/markdown": [
       "15"
      ],
      "text/plain": [
       "[1] 15"
      ]
     },
     "metadata": {},
     "output_type": "display_data"
    },
    {
     "data": {
      "text/html": [
       "<table>\n",
       "<thead><tr><th></th><th scope=col>SampleNames</th><th scope=col>Species</th><th scope=col>PlantPart</th><th scope=col>1</th><th scope=col>2</th></tr></thead>\n",
       "<tbody>\n",
       "\t<tr><th scope=row>4</th><td>Af.T                      </td><td>Alnus_firma               </td><td>Twigs                     </td><td>94356.46559               </td><td>56500.42225               </td></tr>\n",
       "\t<tr><th scope=row>3</th><td>Af.L                      </td><td>Alnus_firma               </td><td>Leaves                    </td><td>1309.902808               </td><td>3480.599078               </td></tr>\n",
       "\t<tr><th scope=row>2</th><td>Af.F                      </td><td>Alnus_firma               </td><td>Fruits                    </td><td>2473.208147               </td><td>3442.19533                </td></tr>\n",
       "\t<tr><th scope=row>1</th><td>Af.B                      </td><td>Alnus_firma               </td><td>Barks                     </td><td>165738.529                </td><td>156224.9143               </td></tr>\n",
       "\t<tr><th scope=row>6</th><td>Ah.L                      </td><td>Alnus_hirtusa             </td><td>Leaves                    </td><td>5294.440152               </td><td>9836.52617                </td></tr>\n",
       "\t<tr><th scope=row>8</th><td>Ahv.B                     </td><td>Alnus_hirtusa_var_sibirica</td><td>Barks                     </td><td>187542.9919               </td><td>28637.06209               </td></tr>\n",
       "\t<tr><th scope=row>7</th><td>Ah.T                      </td><td>Alnus_hirtusa             </td><td>Twigs                     </td><td>48039.90882               </td><td>30208.92459               </td></tr>\n",
       "\t<tr><th scope=row>5</th><td>Ah.F                      </td><td>Alnus_hirtusa             </td><td>Fruits                    </td><td>1133.142265               </td><td>962.3373106               </td></tr>\n",
       "\t<tr><th scope=row>9</th><td>Ahv.F                     </td><td>Alnus_hirtusa_var_sibirica</td><td>Fruits                    </td><td>23826.38372               </td><td>10211.38025               </td></tr>\n",
       "\t<tr><th scope=row>11</th><td>Ahv.T                     </td><td>Alnus_hirtusa_var_sibirica</td><td>Twigs                     </td><td>62358.31766               </td><td>55928.916                 </td></tr>\n",
       "\t<tr><th scope=row>10</th><td>Ahv.L                     </td><td>Alnus_hirtusa_var_sibirica</td><td>Leaves                    </td><td>6208.370414               </td><td>4905.908239               </td></tr>\n",
       "\t<tr><th scope=row>12</th><td>Aj.B                      </td><td>Alnus_japonica            </td><td>Barks                     </td><td>55591.92146               </td><td>22283.08425               </td></tr>\n",
       "\t<tr><th scope=row>14</th><td>Aj.L                      </td><td>Alnus_japonica            </td><td>Leaves                    </td><td>12169.41935               </td><td>7707.610286               </td></tr>\n",
       "\t<tr><th scope=row>15</th><td>Aj.T                      </td><td>Alnus_japonica            </td><td>Twigs                     </td><td>35885.26184               </td><td>21243.22235               </td></tr>\n",
       "\t<tr><th scope=row>13</th><td>Aj.F                      </td><td>Alnus_japonica            </td><td>Fruits                    </td><td>443.9682152               </td><td>2466.478297               </td></tr>\n",
       "</tbody>\n",
       "</table>\n"
      ],
      "text/latex": [
       "\\begin{tabular}{r|lllll}\n",
       "  & SampleNames & Species & PlantPart & 1 & 2\\\\\n",
       "\\hline\n",
       "\t4 & Af.T                         & Alnus\\_firma                & Twigs                        & 94356.46559                  & 56500.42225                 \\\\\n",
       "\t3 & Af.L                         & Alnus\\_firma                & Leaves                       & 1309.902808                  & 3480.599078                 \\\\\n",
       "\t2 & Af.F                         & Alnus\\_firma                & Fruits                       & 2473.208147                  & 3442.19533                  \\\\\n",
       "\t1 & Af.B                         & Alnus\\_firma                & Barks                        & 165738.529                   & 156224.9143                 \\\\\n",
       "\t6 & Ah.L                         & Alnus\\_hirtusa              & Leaves                       & 5294.440152                  & 9836.52617                  \\\\\n",
       "\t8 & Ahv.B                            & Alnus\\_hirtusa\\_var\\_sibirica & Barks                            & 187542.9919                      & 28637.06209                     \\\\\n",
       "\t7 & Ah.T                         & Alnus\\_hirtusa              & Twigs                        & 48039.90882                  & 30208.92459                 \\\\\n",
       "\t5 & Ah.F                         & Alnus\\_hirtusa              & Fruits                       & 1133.142265                  & 962.3373106                 \\\\\n",
       "\t9 & Ahv.F                            & Alnus\\_hirtusa\\_var\\_sibirica & Fruits                           & 23826.38372                      & 10211.38025                     \\\\\n",
       "\t11 & Ahv.T                            & Alnus\\_hirtusa\\_var\\_sibirica & Twigs                            & 62358.31766                      & 55928.916                       \\\\\n",
       "\t10 & Ahv.L                            & Alnus\\_hirtusa\\_var\\_sibirica & Leaves                           & 6208.370414                      & 4905.908239                     \\\\\n",
       "\t12 & Aj.B                         & Alnus\\_japonica             & Barks                        & 55591.92146                  & 22283.08425                 \\\\\n",
       "\t14 & Aj.L                         & Alnus\\_japonica             & Leaves                       & 12169.41935                  & 7707.610286                 \\\\\n",
       "\t15 & Aj.T                         & Alnus\\_japonica             & Twigs                        & 35885.26184                  & 21243.22235                 \\\\\n",
       "\t13 & Aj.F                         & Alnus\\_japonica             & Fruits                       & 443.9682152                  & 2466.478297                 \\\\\n",
       "\\end{tabular}\n"
      ],
      "text/markdown": [
       "\n",
       "| <!--/--> | SampleNames | Species | PlantPart | 1 | 2 |\n",
       "|---|---|---|---|---|---|\n",
       "| 4 | Af.T                       | Alnus_firma                | Twigs                      | 94356.46559                | 56500.42225                |\n",
       "| 3 | Af.L                       | Alnus_firma                | Leaves                     | 1309.902808                | 3480.599078                |\n",
       "| 2 | Af.F                       | Alnus_firma                | Fruits                     | 2473.208147                | 3442.19533                 |\n",
       "| 1 | Af.B                       | Alnus_firma                | Barks                      | 165738.529                 | 156224.9143                |\n",
       "| 6 | Ah.L                       | Alnus_hirtusa              | Leaves                     | 5294.440152                | 9836.52617                 |\n",
       "| 8 | Ahv.B                      | Alnus_hirtusa_var_sibirica | Barks                      | 187542.9919                | 28637.06209                |\n",
       "| 7 | Ah.T                       | Alnus_hirtusa              | Twigs                      | 48039.90882                | 30208.92459                |\n",
       "| 5 | Ah.F                       | Alnus_hirtusa              | Fruits                     | 1133.142265                | 962.3373106                |\n",
       "| 9 | Ahv.F                      | Alnus_hirtusa_var_sibirica | Fruits                     | 23826.38372                | 10211.38025                |\n",
       "| 11 | Ahv.T                      | Alnus_hirtusa_var_sibirica | Twigs                      | 62358.31766                | 55928.916                  |\n",
       "| 10 | Ahv.L                      | Alnus_hirtusa_var_sibirica | Leaves                     | 6208.370414                | 4905.908239                |\n",
       "| 12 | Aj.B                       | Alnus_japonica             | Barks                      | 55591.92146                | 22283.08425                |\n",
       "| 14 | Aj.L                       | Alnus_japonica             | Leaves                     | 12169.41935                | 7707.610286                |\n",
       "| 15 | Aj.T                       | Alnus_japonica             | Twigs                      | 35885.26184                | 21243.22235                |\n",
       "| 13 | Aj.F                       | Alnus_japonica             | Fruits                     | 443.9682152                | 2466.478297                |\n",
       "\n"
      ],
      "text/plain": [
       "   SampleNames Species                    PlantPart 1           2          \n",
       "4  Af.T        Alnus_firma                Twigs     94356.46559 56500.42225\n",
       "3  Af.L        Alnus_firma                Leaves    1309.902808 3480.599078\n",
       "2  Af.F        Alnus_firma                Fruits    2473.208147 3442.19533 \n",
       "1  Af.B        Alnus_firma                Barks     165738.529  156224.9143\n",
       "6  Ah.L        Alnus_hirtusa              Leaves    5294.440152 9836.52617 \n",
       "8  Ahv.B       Alnus_hirtusa_var_sibirica Barks     187542.9919 28637.06209\n",
       "7  Ah.T        Alnus_hirtusa              Twigs     48039.90882 30208.92459\n",
       "5  Ah.F        Alnus_hirtusa              Fruits    1133.142265 962.3373106\n",
       "9  Ahv.F       Alnus_hirtusa_var_sibirica Fruits    23826.38372 10211.38025\n",
       "11 Ahv.T       Alnus_hirtusa_var_sibirica Twigs     62358.31766 55928.916  \n",
       "10 Ahv.L       Alnus_hirtusa_var_sibirica Leaves    6208.370414 4905.908239\n",
       "12 Aj.B        Alnus_japonica             Barks     55591.92146 22283.08425\n",
       "14 Aj.L        Alnus_japonica             Leaves    12169.41935 7707.610286\n",
       "15 Aj.T        Alnus_japonica             Twigs     35885.26184 21243.22235\n",
       "13 Aj.F        Alnus_japonica             Fruits    443.9682152 2466.478297"
      ]
     },
     "metadata": {},
     "output_type": "display_data"
    },
    {
     "data": {
      "text/html": [
       "<ol class=list-inline>\n",
       "\t<li>15</li>\n",
       "\t<li>534</li>\n",
       "</ol>\n"
      ],
      "text/latex": [
       "\\begin{enumerate*}\n",
       "\\item 15\n",
       "\\item 534\n",
       "\\end{enumerate*}\n"
      ],
      "text/markdown": [
       "1. 15\n",
       "2. 534\n",
       "\n",
       "\n"
      ],
      "text/plain": [
       "[1]  15 534"
      ]
     },
     "metadata": {},
     "output_type": "display_data"
    },
    {
     "data": {
      "text/html": [
       "<ol class=list-inline>\n",
       "\t<li>15</li>\n",
       "\t<li>3</li>\n",
       "</ol>\n"
      ],
      "text/latex": [
       "\\begin{enumerate*}\n",
       "\\item 15\n",
       "\\item 3\n",
       "\\end{enumerate*}\n"
      ],
      "text/markdown": [
       "1. 15\n",
       "2. 3\n",
       "\n",
       "\n"
      ],
      "text/plain": [
       "[1] 15  3"
      ]
     },
     "metadata": {},
     "output_type": "display_data"
    },
    {
     "data": {
      "text/html": [
       "<ol class=list-inline>\n",
       "\t<li>15</li>\n",
       "\t<li>532</li>\n",
       "</ol>\n"
      ],
      "text/latex": [
       "\\begin{enumerate*}\n",
       "\\item 15\n",
       "\\item 532\n",
       "\\end{enumerate*}\n"
      ],
      "text/markdown": [
       "1. 15\n",
       "2. 532\n",
       "\n",
       "\n"
      ],
      "text/plain": [
       "[1]  15 532"
      ]
     },
     "metadata": {},
     "output_type": "display_data"
    },
    {
     "data": {
      "text/html": [
       "<ol class=list-inline>\n",
       "\t<li>'SampleNames'</li>\n",
       "\t<li>'Species'</li>\n",
       "\t<li>'PlantPart'</li>\n",
       "\t<li>'1'</li>\n",
       "\t<li>'2'</li>\n",
       "\t<li>'3'</li>\n",
       "\t<li>'4'</li>\n",
       "\t<li>'5'</li>\n",
       "\t<li>'6'</li>\n",
       "\t<li>'7'</li>\n",
       "\t<li>'8'</li>\n",
       "\t<li>'9'</li>\n",
       "\t<li>'10'</li>\n",
       "\t<li>'11'</li>\n",
       "\t<li>'12'</li>\n",
       "\t<li>'13'</li>\n",
       "\t<li>'14'</li>\n",
       "\t<li>'15'</li>\n",
       "\t<li>'16'</li>\n",
       "\t<li>'17'</li>\n",
       "\t<li>'18'</li>\n",
       "\t<li>'19'</li>\n",
       "\t<li>'20'</li>\n",
       "\t<li>'21'</li>\n",
       "\t<li>'22'</li>\n",
       "\t<li>'23'</li>\n",
       "\t<li>'24'</li>\n",
       "\t<li>'25'</li>\n",
       "\t<li>'26'</li>\n",
       "\t<li>'27'</li>\n",
       "\t<li>'28'</li>\n",
       "\t<li>'29'</li>\n",
       "\t<li>'30'</li>\n",
       "\t<li>'31'</li>\n",
       "\t<li>'32'</li>\n",
       "\t<li>'33'</li>\n",
       "\t<li>'34'</li>\n",
       "\t<li>'35'</li>\n",
       "\t<li>'36'</li>\n",
       "\t<li>'37'</li>\n",
       "\t<li>'38'</li>\n",
       "\t<li>'39'</li>\n",
       "\t<li>'40'</li>\n",
       "\t<li>'41'</li>\n",
       "\t<li>'42'</li>\n",
       "\t<li>'43'</li>\n",
       "\t<li>'44'</li>\n",
       "\t<li>'45'</li>\n",
       "\t<li>'46'</li>\n",
       "\t<li>'47'</li>\n",
       "\t<li>'48'</li>\n",
       "\t<li>'49'</li>\n",
       "\t<li>'50'</li>\n",
       "\t<li>'51'</li>\n",
       "\t<li>'52'</li>\n",
       "\t<li>'53'</li>\n",
       "\t<li>'54'</li>\n",
       "\t<li>'55'</li>\n",
       "\t<li>'56'</li>\n",
       "\t<li>'57'</li>\n",
       "\t<li>'58'</li>\n",
       "\t<li>'59'</li>\n",
       "\t<li>'60'</li>\n",
       "\t<li>'61'</li>\n",
       "\t<li>'62'</li>\n",
       "\t<li>'63'</li>\n",
       "\t<li>'64'</li>\n",
       "\t<li>'65'</li>\n",
       "\t<li>'66'</li>\n",
       "\t<li>'67'</li>\n",
       "\t<li>'68'</li>\n",
       "\t<li>'69'</li>\n",
       "\t<li>'70'</li>\n",
       "\t<li>'71'</li>\n",
       "\t<li>'72'</li>\n",
       "\t<li>'73'</li>\n",
       "\t<li>'74'</li>\n",
       "\t<li>'75'</li>\n",
       "\t<li>'76'</li>\n",
       "\t<li>'77'</li>\n",
       "\t<li>'78'</li>\n",
       "\t<li>'79'</li>\n",
       "\t<li>'80'</li>\n",
       "\t<li>'81'</li>\n",
       "\t<li>'82'</li>\n",
       "\t<li>'83'</li>\n",
       "\t<li>'84'</li>\n",
       "\t<li>'85'</li>\n",
       "\t<li>'86'</li>\n",
       "\t<li>'87'</li>\n",
       "\t<li>'88'</li>\n",
       "\t<li>'89'</li>\n",
       "\t<li>'90'</li>\n",
       "\t<li>'91'</li>\n",
       "\t<li>'92'</li>\n",
       "\t<li>'93'</li>\n",
       "\t<li>'94'</li>\n",
       "\t<li>'95'</li>\n",
       "\t<li>'96'</li>\n",
       "\t<li>'97'</li>\n",
       "\t<li>'98'</li>\n",
       "\t<li>'99'</li>\n",
       "\t<li>'100'</li>\n",
       "\t<li>'101'</li>\n",
       "\t<li>'102'</li>\n",
       "\t<li>'103'</li>\n",
       "\t<li>'104'</li>\n",
       "\t<li>'105'</li>\n",
       "\t<li>'106'</li>\n",
       "\t<li>'107'</li>\n",
       "\t<li>'108'</li>\n",
       "\t<li>'109'</li>\n",
       "\t<li>'110'</li>\n",
       "\t<li>'111'</li>\n",
       "\t<li>'112'</li>\n",
       "\t<li>'113'</li>\n",
       "\t<li>'114'</li>\n",
       "\t<li>'115'</li>\n",
       "\t<li>'116'</li>\n",
       "\t<li>'117'</li>\n",
       "\t<li>'118'</li>\n",
       "\t<li>'119'</li>\n",
       "\t<li>'120'</li>\n",
       "\t<li>'121'</li>\n",
       "\t<li>'122'</li>\n",
       "\t<li>'123'</li>\n",
       "\t<li>'124'</li>\n",
       "\t<li>'125'</li>\n",
       "\t<li>'126'</li>\n",
       "\t<li>'127'</li>\n",
       "\t<li>'128'</li>\n",
       "\t<li>'129'</li>\n",
       "\t<li>'130'</li>\n",
       "</ol>\n"
      ],
      "text/latex": [
       "\\begin{enumerate*}\n",
       "\\item 'SampleNames'\n",
       "\\item 'Species'\n",
       "\\item 'PlantPart'\n",
       "\\item '1'\n",
       "\\item '2'\n",
       "\\item '3'\n",
       "\\item '4'\n",
       "\\item '5'\n",
       "\\item '6'\n",
       "\\item '7'\n",
       "\\item '8'\n",
       "\\item '9'\n",
       "\\item '10'\n",
       "\\item '11'\n",
       "\\item '12'\n",
       "\\item '13'\n",
       "\\item '14'\n",
       "\\item '15'\n",
       "\\item '16'\n",
       "\\item '17'\n",
       "\\item '18'\n",
       "\\item '19'\n",
       "\\item '20'\n",
       "\\item '21'\n",
       "\\item '22'\n",
       "\\item '23'\n",
       "\\item '24'\n",
       "\\item '25'\n",
       "\\item '26'\n",
       "\\item '27'\n",
       "\\item '28'\n",
       "\\item '29'\n",
       "\\item '30'\n",
       "\\item '31'\n",
       "\\item '32'\n",
       "\\item '33'\n",
       "\\item '34'\n",
       "\\item '35'\n",
       "\\item '36'\n",
       "\\item '37'\n",
       "\\item '38'\n",
       "\\item '39'\n",
       "\\item '40'\n",
       "\\item '41'\n",
       "\\item '42'\n",
       "\\item '43'\n",
       "\\item '44'\n",
       "\\item '45'\n",
       "\\item '46'\n",
       "\\item '47'\n",
       "\\item '48'\n",
       "\\item '49'\n",
       "\\item '50'\n",
       "\\item '51'\n",
       "\\item '52'\n",
       "\\item '53'\n",
       "\\item '54'\n",
       "\\item '55'\n",
       "\\item '56'\n",
       "\\item '57'\n",
       "\\item '58'\n",
       "\\item '59'\n",
       "\\item '60'\n",
       "\\item '61'\n",
       "\\item '62'\n",
       "\\item '63'\n",
       "\\item '64'\n",
       "\\item '65'\n",
       "\\item '66'\n",
       "\\item '67'\n",
       "\\item '68'\n",
       "\\item '69'\n",
       "\\item '70'\n",
       "\\item '71'\n",
       "\\item '72'\n",
       "\\item '73'\n",
       "\\item '74'\n",
       "\\item '75'\n",
       "\\item '76'\n",
       "\\item '77'\n",
       "\\item '78'\n",
       "\\item '79'\n",
       "\\item '80'\n",
       "\\item '81'\n",
       "\\item '82'\n",
       "\\item '83'\n",
       "\\item '84'\n",
       "\\item '85'\n",
       "\\item '86'\n",
       "\\item '87'\n",
       "\\item '88'\n",
       "\\item '89'\n",
       "\\item '90'\n",
       "\\item '91'\n",
       "\\item '92'\n",
       "\\item '93'\n",
       "\\item '94'\n",
       "\\item '95'\n",
       "\\item '96'\n",
       "\\item '97'\n",
       "\\item '98'\n",
       "\\item '99'\n",
       "\\item '100'\n",
       "\\item '101'\n",
       "\\item '102'\n",
       "\\item '103'\n",
       "\\item '104'\n",
       "\\item '105'\n",
       "\\item '106'\n",
       "\\item '107'\n",
       "\\item '108'\n",
       "\\item '109'\n",
       "\\item '110'\n",
       "\\item '111'\n",
       "\\item '112'\n",
       "\\item '113'\n",
       "\\item '114'\n",
       "\\item '115'\n",
       "\\item '116'\n",
       "\\item '117'\n",
       "\\item '118'\n",
       "\\item '119'\n",
       "\\item '120'\n",
       "\\item '121'\n",
       "\\item '122'\n",
       "\\item '123'\n",
       "\\item '124'\n",
       "\\item '125'\n",
       "\\item '126'\n",
       "\\item '127'\n",
       "\\item '128'\n",
       "\\item '129'\n",
       "\\item '130'\n",
       "\\end{enumerate*}\n"
      ],
      "text/markdown": [
       "1. 'SampleNames'\n",
       "2. 'Species'\n",
       "3. 'PlantPart'\n",
       "4. '1'\n",
       "5. '2'\n",
       "6. '3'\n",
       "7. '4'\n",
       "8. '5'\n",
       "9. '6'\n",
       "10. '7'\n",
       "11. '8'\n",
       "12. '9'\n",
       "13. '10'\n",
       "14. '11'\n",
       "15. '12'\n",
       "16. '13'\n",
       "17. '14'\n",
       "18. '15'\n",
       "19. '16'\n",
       "20. '17'\n",
       "21. '18'\n",
       "22. '19'\n",
       "23. '20'\n",
       "24. '21'\n",
       "25. '22'\n",
       "26. '23'\n",
       "27. '24'\n",
       "28. '25'\n",
       "29. '26'\n",
       "30. '27'\n",
       "31. '28'\n",
       "32. '29'\n",
       "33. '30'\n",
       "34. '31'\n",
       "35. '32'\n",
       "36. '33'\n",
       "37. '34'\n",
       "38. '35'\n",
       "39. '36'\n",
       "40. '37'\n",
       "41. '38'\n",
       "42. '39'\n",
       "43. '40'\n",
       "44. '41'\n",
       "45. '42'\n",
       "46. '43'\n",
       "47. '44'\n",
       "48. '45'\n",
       "49. '46'\n",
       "50. '47'\n",
       "51. '48'\n",
       "52. '49'\n",
       "53. '50'\n",
       "54. '51'\n",
       "55. '52'\n",
       "56. '53'\n",
       "57. '54'\n",
       "58. '55'\n",
       "59. '56'\n",
       "60. '57'\n",
       "61. '58'\n",
       "62. '59'\n",
       "63. '60'\n",
       "64. '61'\n",
       "65. '62'\n",
       "66. '63'\n",
       "67. '64'\n",
       "68. '65'\n",
       "69. '66'\n",
       "70. '67'\n",
       "71. '68'\n",
       "72. '69'\n",
       "73. '70'\n",
       "74. '71'\n",
       "75. '72'\n",
       "76. '73'\n",
       "77. '74'\n",
       "78. '75'\n",
       "79. '76'\n",
       "80. '77'\n",
       "81. '78'\n",
       "82. '79'\n",
       "83. '80'\n",
       "84. '81'\n",
       "85. '82'\n",
       "86. '83'\n",
       "87. '84'\n",
       "88. '85'\n",
       "89. '86'\n",
       "90. '87'\n",
       "91. '88'\n",
       "92. '89'\n",
       "93. '90'\n",
       "94. '91'\n",
       "95. '92'\n",
       "96. '93'\n",
       "97. '94'\n",
       "98. '95'\n",
       "99. '96'\n",
       "100. '97'\n",
       "101. '98'\n",
       "102. '99'\n",
       "103. '100'\n",
       "104. '101'\n",
       "105. '102'\n",
       "106. '103'\n",
       "107. '104'\n",
       "108. '105'\n",
       "109. '106'\n",
       "110. '107'\n",
       "111. '108'\n",
       "112. '109'\n",
       "113. '110'\n",
       "114. '111'\n",
       "115. '112'\n",
       "116. '113'\n",
       "117. '114'\n",
       "118. '115'\n",
       "119. '116'\n",
       "120. '117'\n",
       "121. '118'\n",
       "122. '119'\n",
       "123. '120'\n",
       "124. '121'\n",
       "125. '122'\n",
       "126. '123'\n",
       "127. '124'\n",
       "128. '125'\n",
       "129. '126'\n",
       "130. '127'\n",
       "131. '128'\n",
       "132. '129'\n",
       "133. '130'\n",
       "\n",
       "\n"
      ],
      "text/plain": [
       "  [1] \"SampleNames\" \"Species\"     \"PlantPart\"   \"1\"           \"2\"          \n",
       "  [6] \"3\"           \"4\"           \"5\"           \"6\"           \"7\"          \n",
       " [11] \"8\"           \"9\"           \"10\"          \"11\"          \"12\"         \n",
       " [16] \"13\"          \"14\"          \"15\"          \"16\"          \"17\"         \n",
       " [21] \"18\"          \"19\"          \"20\"          \"21\"          \"22\"         \n",
       " [26] \"23\"          \"24\"          \"25\"          \"26\"          \"27\"         \n",
       " [31] \"28\"          \"29\"          \"30\"          \"31\"          \"32\"         \n",
       " [36] \"33\"          \"34\"          \"35\"          \"36\"          \"37\"         \n",
       " [41] \"38\"          \"39\"          \"40\"          \"41\"          \"42\"         \n",
       " [46] \"43\"          \"44\"          \"45\"          \"46\"          \"47\"         \n",
       " [51] \"48\"          \"49\"          \"50\"          \"51\"          \"52\"         \n",
       " [56] \"53\"          \"54\"          \"55\"          \"56\"          \"57\"         \n",
       " [61] \"58\"          \"59\"          \"60\"          \"61\"          \"62\"         \n",
       " [66] \"63\"          \"64\"          \"65\"          \"66\"          \"67\"         \n",
       " [71] \"68\"          \"69\"          \"70\"          \"71\"          \"72\"         \n",
       " [76] \"73\"          \"74\"          \"75\"          \"76\"          \"77\"         \n",
       " [81] \"78\"          \"79\"          \"80\"          \"81\"          \"82\"         \n",
       " [86] \"83\"          \"84\"          \"85\"          \"86\"          \"87\"         \n",
       " [91] \"88\"          \"89\"          \"90\"          \"91\"          \"92\"         \n",
       " [96] \"93\"          \"94\"          \"95\"          \"96\"          \"97\"         \n",
       "[101] \"98\"          \"99\"          \"100\"         \"101\"         \"102\"        \n",
       "[106] \"103\"         \"104\"         \"105\"         \"106\"         \"107\"        \n",
       "[111] \"108\"         \"109\"         \"110\"         \"111\"         \"112\"        \n",
       "[116] \"113\"         \"114\"         \"115\"         \"116\"         \"117\"        \n",
       "[121] \"118\"         \"119\"         \"120\"         \"121\"         \"122\"        \n",
       "[126] \"123\"         \"124\"         \"125\"         \"126\"         \"127\"        \n",
       "[131] \"128\"         \"129\"         \"130\"        "
      ]
     },
     "metadata": {},
     "output_type": "display_data"
    }
   ],
   "source": [
    "fetmet  <- merge(met,fet2,by=\"SampleNames\")\n",
    "fetmet$SampleNames <- gsub(\"_\", \".\", fetmet$SampleNames)\n",
    "fetmet <- fetmet[match(rownames(dist), fetmet$SampleNames),]\n",
    "length(which(fetmet$SampleNames %in% colnames(dist)))\n",
    "fetmet[,1:5]\n",
    "dim(fetmet)\n",
    "dim(met)\n",
    "dim(fet2)\n",
    "colnames(fetmet)[1:133]\n",
    "#write.csv(fetmet,\"features_metadata_euphorbia.csv\",row.names = F)"
   ]
  },
  {
   "cell_type": "markdown",
   "metadata": {},
   "source": [
    "*For 2D visualization select a column in your feature table with corresponding metadata*"
   ]
  },
  {
   "cell_type": "code",
   "execution_count": 27,
   "metadata": {
    "scrolled": true
   },
   "outputs": [
    {
     "data": {
      "text/html": [
       "<ol class=list-inline>\n",
       "\t<li>Twigs</li>\n",
       "\t<li>Leaves</li>\n",
       "\t<li>Fruits</li>\n",
       "\t<li>Barks</li>\n",
       "\t<li>Leaves</li>\n",
       "\t<li>Barks</li>\n",
       "\t<li>Twigs</li>\n",
       "\t<li>Fruits</li>\n",
       "\t<li>Fruits</li>\n",
       "\t<li>Twigs</li>\n",
       "\t<li>Leaves</li>\n",
       "\t<li>Barks</li>\n",
       "\t<li>Leaves</li>\n",
       "\t<li>Twigs</li>\n",
       "\t<li>Fruits</li>\n",
       "</ol>\n",
       "\n",
       "<details>\n",
       "\t<summary style=display:list-item;cursor:pointer>\n",
       "\t\t<strong>Levels</strong>:\n",
       "\t</summary>\n",
       "\t<ol class=list-inline>\n",
       "\t\t<li>'Barks'</li>\n",
       "\t\t<li>'Fruits'</li>\n",
       "\t\t<li>'Leaves'</li>\n",
       "\t\t<li>'Twigs'</li>\n",
       "\t</ol>\n",
       "</details>"
      ],
      "text/latex": [
       "\\begin{enumerate*}\n",
       "\\item Twigs\n",
       "\\item Leaves\n",
       "\\item Fruits\n",
       "\\item Barks\n",
       "\\item Leaves\n",
       "\\item Barks\n",
       "\\item Twigs\n",
       "\\item Fruits\n",
       "\\item Fruits\n",
       "\\item Twigs\n",
       "\\item Leaves\n",
       "\\item Barks\n",
       "\\item Leaves\n",
       "\\item Twigs\n",
       "\\item Fruits\n",
       "\\end{enumerate*}\n",
       "\n",
       "\\emph{Levels}: \\begin{enumerate*}\n",
       "\\item 'Barks'\n",
       "\\item 'Fruits'\n",
       "\\item 'Leaves'\n",
       "\\item 'Twigs'\n",
       "\\end{enumerate*}\n"
      ],
      "text/markdown": [
       "1. Twigs\n",
       "2. Leaves\n",
       "3. Fruits\n",
       "4. Barks\n",
       "5. Leaves\n",
       "6. Barks\n",
       "7. Twigs\n",
       "8. Fruits\n",
       "9. Fruits\n",
       "10. Twigs\n",
       "11. Leaves\n",
       "12. Barks\n",
       "13. Leaves\n",
       "14. Twigs\n",
       "15. Fruits\n",
       "\n",
       "\n",
       "\n",
       "**Levels**: 1. 'Barks'\n",
       "2. 'Fruits'\n",
       "3. 'Leaves'\n",
       "4. 'Twigs'\n",
       "\n",
       "\n"
      ],
      "text/plain": [
       " [1] Twigs  Leaves Fruits Barks  Leaves Barks  Twigs  Fruits Fruits Twigs \n",
       "[11] Leaves Barks  Leaves Twigs  Fruits\n",
       "Levels: Barks Fruits Leaves Twigs"
      ]
     },
     "metadata": {},
     "output_type": "display_data"
    },
    {
     "data": {
      "text/html": [
       "<ol class=list-inline>\n",
       "\t<li>Alnus_firma</li>\n",
       "\t<li>Alnus_firma</li>\n",
       "\t<li>Alnus_firma</li>\n",
       "\t<li>Alnus_firma</li>\n",
       "\t<li>Alnus_hirtusa</li>\n",
       "\t<li>Alnus_hirtusa_var_sibirica</li>\n",
       "\t<li>Alnus_hirtusa</li>\n",
       "\t<li>Alnus_hirtusa</li>\n",
       "\t<li>Alnus_hirtusa_var_sibirica</li>\n",
       "\t<li>Alnus_hirtusa_var_sibirica</li>\n",
       "\t<li>Alnus_hirtusa_var_sibirica</li>\n",
       "\t<li>Alnus_japonica</li>\n",
       "\t<li>Alnus_japonica</li>\n",
       "\t<li>Alnus_japonica</li>\n",
       "\t<li>Alnus_japonica</li>\n",
       "</ol>\n",
       "\n",
       "<details>\n",
       "\t<summary style=display:list-item;cursor:pointer>\n",
       "\t\t<strong>Levels</strong>:\n",
       "\t</summary>\n",
       "\t<ol class=list-inline>\n",
       "\t\t<li>'Alnus_firma'</li>\n",
       "\t\t<li>'Alnus_hirtusa'</li>\n",
       "\t\t<li>'Alnus_hirtusa_var_sibirica'</li>\n",
       "\t\t<li>'Alnus_japonica'</li>\n",
       "\t</ol>\n",
       "</details>"
      ],
      "text/latex": [
       "\\begin{enumerate*}\n",
       "\\item Alnus\\_firma\n",
       "\\item Alnus\\_firma\n",
       "\\item Alnus\\_firma\n",
       "\\item Alnus\\_firma\n",
       "\\item Alnus\\_hirtusa\n",
       "\\item Alnus\\_hirtusa\\_var\\_sibirica\n",
       "\\item Alnus\\_hirtusa\n",
       "\\item Alnus\\_hirtusa\n",
       "\\item Alnus\\_hirtusa\\_var\\_sibirica\n",
       "\\item Alnus\\_hirtusa\\_var\\_sibirica\n",
       "\\item Alnus\\_hirtusa\\_var\\_sibirica\n",
       "\\item Alnus\\_japonica\n",
       "\\item Alnus\\_japonica\n",
       "\\item Alnus\\_japonica\n",
       "\\item Alnus\\_japonica\n",
       "\\end{enumerate*}\n",
       "\n",
       "\\emph{Levels}: \\begin{enumerate*}\n",
       "\\item 'Alnus\\_firma'\n",
       "\\item 'Alnus\\_hirtusa'\n",
       "\\item 'Alnus\\_hirtusa\\_var\\_sibirica'\n",
       "\\item 'Alnus\\_japonica'\n",
       "\\end{enumerate*}\n"
      ],
      "text/markdown": [
       "1. Alnus_firma\n",
       "2. Alnus_firma\n",
       "3. Alnus_firma\n",
       "4. Alnus_firma\n",
       "5. Alnus_hirtusa\n",
       "6. Alnus_hirtusa_var_sibirica\n",
       "7. Alnus_hirtusa\n",
       "8. Alnus_hirtusa\n",
       "9. Alnus_hirtusa_var_sibirica\n",
       "10. Alnus_hirtusa_var_sibirica\n",
       "11. Alnus_hirtusa_var_sibirica\n",
       "12. Alnus_japonica\n",
       "13. Alnus_japonica\n",
       "14. Alnus_japonica\n",
       "15. Alnus_japonica\n",
       "\n",
       "\n",
       "\n",
       "**Levels**: 1. 'Alnus_firma'\n",
       "2. 'Alnus_hirtusa'\n",
       "3. 'Alnus_hirtusa_var_sibirica'\n",
       "4. 'Alnus_japonica'\n",
       "\n",
       "\n"
      ],
      "text/plain": [
       " [1] Alnus_firma                Alnus_firma               \n",
       " [3] Alnus_firma                Alnus_firma               \n",
       " [5] Alnus_hirtusa              Alnus_hirtusa_var_sibirica\n",
       " [7] Alnus_hirtusa              Alnus_hirtusa             \n",
       " [9] Alnus_hirtusa_var_sibirica Alnus_hirtusa_var_sibirica\n",
       "[11] Alnus_hirtusa_var_sibirica Alnus_japonica            \n",
       "[13] Alnus_japonica             Alnus_japonica            \n",
       "[15] Alnus_japonica            \n",
       "4 Levels: Alnus_firma Alnus_hirtusa ... Alnus_japonica"
      ]
     },
     "metadata": {},
     "output_type": "display_data"
    }
   ],
   "source": [
    "clustid1 <- fetmet[,which(colnames(fetmet)==\"PlantPart\")]\n",
    "clustid1\n",
    "clustid2 <- fetmet[,which(colnames(fetmet)==\"Species\")]\n",
    "clustid2"
   ]
  },
  {
   "cell_type": "code",
   "execution_count": 34,
   "metadata": {
    "scrolled": true
   },
   "outputs": [
    {
     "data": {
      "image/png": "[encoded data removed]",
      "text/plain": [
       "plot without title"
      ]
     },
     "metadata": {},
     "output_type": "display_data"
    }
   ],
   "source": [
    "# to select different combinations of components do transf2$points[,c(1,3)]\n",
    "mds_2D <- as.data.frame(cscs_mds[,1:2])\n",
    "colnames(mds_2D) <- c(\"Dim_1\", \"Dim_2\")\n",
    "p <- ggplot(mds_2D, aes(Dim_1, Dim_2)) + \n",
    "    geom_point(aes(colour = factor(clustid1), shape = factor(clustid2)), size = 10) + \n",
    "    scale_shape_manual(values=c(16, 15, 18, 17))+\n",
    "    scale_color_manual(values=c('#993300','#ffcc00', '#00cc00', '#3300ff'))+\n",
    "    theme_bw() +\n",
    "    theme(legend.title=element_blank()) + \n",
    "    theme(legend.text=element_text(size=30)) +\n",
    "    theme(axis.text=element_text(size=30),\n",
    "          axis.title=element_text(size=30, face=\"bold\"))\n",
    "print(p)\n",
    "ggsave(\"PCoA_CSCS.png\", p, width=23, height=15)"
   ]
  },
  {
   "cell_type": "code",
   "execution_count": null,
   "metadata": {
    "collapsed": true
   },
   "outputs": [],
   "source": []
  }
 ],
 "metadata": {
  "kernelspec": {
   "display_name": "R",
   "language": "R",
   "name": "ir"
  },
  "language_info": {
   "codemirror_mode": "r",
   "file_extension": ".r",
   "mimetype": "text/x-r-source",
   "name": "R",
   "pygments_lexer": "r",
   "version": "3.4.3"
  }
 },
 "nbformat": 4,
 "nbformat_minor": 2
}
