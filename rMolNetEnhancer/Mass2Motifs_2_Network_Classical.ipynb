{
 "cells": [
  {
   "cell_type": "markdown",
   "metadata": {},
   "source": [
    "## Map Mass2Motifs on mass spectral molecular networks (classical workflow)"
   ]
  },
  {
   "cell_type": "markdown",
   "metadata": {},
   "source": [
    "download MolNetEnhancer package"
   ]
  },
  {
   "cell_type": "code",
   "execution_count": 1,
   "metadata": {},
   "outputs": [
    {
     "name": "stderr",
     "output_type": "stream",
     "text": [
      "Downloading GitHub repo madeleineernst/MolNetEnhancer@master\n",
      "from URL https://api.github.com/repos/madeleineernst/MolNetEnhancer/zipball/master\n",
      "Installing MolNetEnhancer\n",
      "\"C:/Users/SM-PC/Anaconda3/lib/R/bin/x64/R\" --no-site-file --no-environ  \\\n",
      "  --no-save --no-restore --quiet CMD INSTALL  \\\n",
      "  \"C:/Users/SM-PC/AppData/Local/Temp/RtmpS0DYk9/devtools23682dd623fc/madeleineernst-RMolNetEnhancer-3a9bace\"  \\\n",
      "  --library=\"C:/Users/SM-PC/Anaconda3/Lib/R/library\" --install-tests \n",
      "\n"
     ]
    }
   ],
   "source": [
    "devtools::install_github(\"madeleineernst/MolNetEnhancer\")"
   ]
  },
  {
   "cell_type": "markdown",
   "metadata": {},
   "source": [
    "download rCSCS package, for direct import of GNPS data (https://www.biorxiv.org/content/10.1101/546150v1)"
   ]
  },
  {
   "cell_type": "code",
   "execution_count": 2,
   "metadata": {},
   "outputs": [
    {
     "name": "stderr",
     "output_type": "stream",
     "text": [
      "Downloading GitHub repo askerdb/rCSCS@master\n",
      "from URL https://api.github.com/repos/askerdb/rCSCS/zipball/master\n",
      "Installing rCSCS\n",
      "\"C:/Users/SM-PC/Anaconda3/lib/R/bin/x64/R\" --no-site-file --no-environ  \\\n",
      "  --no-save --no-restore --quiet CMD INSTALL  \\\n",
      "  \"C:/Users/SM-PC/AppData/Local/Temp/RtmpS0DYk9/devtools2368125d232/askerdb-rCSCS-da09d57\"  \\\n",
      "  --library=\"C:/Users/SM-PC/Anaconda3/Lib/R/library\" --install-tests \n",
      "\n"
     ]
    }
   ],
   "source": [
    "devtools::install_github(\"askerdb/rCSCS\")"
   ]
  },
  {
   "cell_type": "markdown",
   "metadata": {},
   "source": [
    "<font color='blue'>**specify GNPS job ID**</font> "
   ]
  },
  {
   "cell_type": "code",
   "execution_count": 3,
   "metadata": {},
   "outputs": [],
   "source": [
    "gnps_id = \"8c6f75c33ce449189236ffdf929e5589\""
   ]
  },
  {
   "cell_type": "code",
   "execution_count": 4,
   "metadata": {},
   "outputs": [],
   "source": [
    "folder_name = \"Alnus\""
   ]
  },
  {
   "cell_type": "markdown",
   "metadata": {},
   "source": [
    "download GNPS data"
   ]
  },
  {
   "cell_type": "code",
   "execution_count": 6,
   "metadata": {},
   "outputs": [],
   "source": [
    "rCSCS::download_GNPS(gnps_id, folder_name) "
   ]
  },
  {
   "cell_type": "code",
   "execution_count": 7,
   "metadata": {},
   "outputs": [],
   "source": [
    "edges <- read.csv(paste(folder_name,gnps_id,'edges_file.txt',sep='/'), sep = '\\t')"
   ]
  },
  {
   "cell_type": "code",
   "execution_count": 8,
   "metadata": {},
   "outputs": [
    {
     "data": {
      "text/html": [
       "<table>\n",
       "<thead><tr><th scope=col>CLUSTERID1</th><th scope=col>CLUSTERID2</th><th scope=col>DeltaMZ</th><th scope=col>MEH</th><th scope=col>Cosine</th><th scope=col>OtherScore</th><th scope=col>ComponentIndex</th><th scope=col>EdgeAnnotation</th></tr></thead>\n",
       "<tbody>\n",
       "\t<tr><td> 79     </td><td>189     </td><td> 136.018</td><td> 79     </td><td>0.7888  </td><td> 79     </td><td>1       </td><td>        </td></tr>\n",
       "\t<tr><td> 90     </td><td> 96     </td><td> -15.993</td><td> 90     </td><td>0.8151  </td><td> 90     </td><td>1       </td><td>        </td></tr>\n",
       "\t<tr><td> 96     </td><td>493     </td><td>-328.321</td><td> 96     </td><td>0.8540  </td><td> 96     </td><td>1       </td><td>        </td></tr>\n",
       "\t<tr><td>218     </td><td>249     </td><td>-162.054</td><td>218     </td><td>0.7530  </td><td>218     </td><td>1       </td><td>        </td></tr>\n",
       "\t<tr><td>329     </td><td>427     </td><td> -18.011</td><td>329     </td><td>0.9290  </td><td>329     </td><td>1       </td><td>        </td></tr>\n",
       "\t<tr><td>278     </td><td>488     </td><td> -18.012</td><td>278     </td><td>0.9517  </td><td>278     </td><td>1       </td><td>        </td></tr>\n",
       "</tbody>\n",
       "</table>\n"
      ],
      "text/latex": [
       "\\begin{tabular}{r|llllllll}\n",
       " CLUSTERID1 & CLUSTERID2 & DeltaMZ & MEH & Cosine & OtherScore & ComponentIndex & EdgeAnnotation\\\\\n",
       "\\hline\n",
       "\t  79      & 189      &  136.018 &  79      & 0.7888   &  79      & 1        &         \\\\\n",
       "\t  90      &  96      &  -15.993 &  90      & 0.8151   &  90      & 1        &         \\\\\n",
       "\t  96      & 493      & -328.321 &  96      & 0.8540   &  96      & 1        &         \\\\\n",
       "\t 218      & 249      & -162.054 & 218      & 0.7530   & 218      & 1        &         \\\\\n",
       "\t 329      & 427      &  -18.011 & 329      & 0.9290   & 329      & 1        &         \\\\\n",
       "\t 278      & 488      &  -18.012 & 278      & 0.9517   & 278      & 1        &         \\\\\n",
       "\\end{tabular}\n"
      ],
      "text/markdown": [
       "\n",
       "CLUSTERID1 | CLUSTERID2 | DeltaMZ | MEH | Cosine | OtherScore | ComponentIndex | EdgeAnnotation | \n",
       "|---|---|---|---|---|---|\n",
       "|  79      | 189      |  136.018 |  79      | 0.7888   |  79      | 1        |          | \n",
       "|  90      |  96      |  -15.993 |  90      | 0.8151   |  90      | 1        |          | \n",
       "|  96      | 493      | -328.321 |  96      | 0.8540   |  96      | 1        |          | \n",
       "| 218      | 249      | -162.054 | 218      | 0.7530   | 218      | 1        |          | \n",
       "| 329      | 427      |  -18.011 | 329      | 0.9290   | 329      | 1        |          | \n",
       "| 278      | 488      |  -18.012 | 278      | 0.9517   | 278      | 1        |          | \n",
       "\n",
       "\n"
      ],
      "text/plain": [
       "  CLUSTERID1 CLUSTERID2 DeltaMZ  MEH Cosine OtherScore ComponentIndex\n",
       "1  79        189         136.018  79 0.7888  79        1             \n",
       "2  90         96         -15.993  90 0.8151  90        1             \n",
       "3  96        493        -328.321  96 0.8540  96        1             \n",
       "4 218        249        -162.054 218 0.7530 218        1             \n",
       "5 329        427         -18.011 329 0.9290 329        1             \n",
       "6 278        488         -18.012 278 0.9517 278        1             \n",
       "  EdgeAnnotation\n",
       "1               \n",
       "2               \n",
       "3               \n",
       "4               \n",
       "5               \n",
       "6               "
      ]
     },
     "metadata": {},
     "output_type": "display_data"
    }
   ],
   "source": [
    "head(edges)"
   ]
  },
  {
   "cell_type": "markdown",
   "metadata": {},
   "source": [
    "<font color='blue'>**specify MS2LDA job ID**</font>  "
   ]
  },
  {
   "cell_type": "code",
   "execution_count": 9,
   "metadata": {},
   "outputs": [],
   "source": [
    "ms2lda_id = '930'"
   ]
  },
  {
   "cell_type": "code",
   "execution_count": 10,
   "metadata": {
    "scrolled": true
   },
   "outputs": [],
   "source": [
    "motifs <- read.csv(paste('http://ms2lda.org/basicviz/get_gnps_summary',ms2lda_id, sep = \"/\"))"
   ]
  },
  {
   "cell_type": "code",
   "execution_count": 11,
   "metadata": {},
   "outputs": [
    {
     "data": {
      "text/html": [
       "<table>\n",
       "<thead><tr><th scope=col>scans</th><th scope=col>precursormass</th><th scope=col>parentrt</th><th scope=col>document</th><th scope=col>motif</th><th scope=col>probability</th><th scope=col>overlap</th></tr></thead>\n",
       "<tbody>\n",
       "\t<tr><td>253         </td><td>953.3489    </td><td>303.77      </td><td>document_253</td><td>motif_6     </td><td>0.99997535  </td><td>0.1133840   </td></tr>\n",
       "\t<tr><td>252         </td><td>607.2405    </td><td>334.89      </td><td>document_252</td><td>motif_97    </td><td>0.72399796  </td><td>0.2614573   </td></tr>\n",
       "\t<tr><td>252         </td><td>607.2405    </td><td>334.89      </td><td>document_252</td><td>motif_49    </td><td>0.21284991  </td><td>0.4478904   </td></tr>\n",
       "\t<tr><td>252         </td><td>607.2405    </td><td>334.89      </td><td>document_252</td><td>motif_57    </td><td>0.06313475  </td><td>0.1879634   </td></tr>\n",
       "\t<tr><td>251         </td><td>639.2663    </td><td>409.86      </td><td>document_251</td><td>motif_77    </td><td>0.08011862  </td><td>0.5374396   </td></tr>\n",
       "\t<tr><td>251         </td><td>639.2663    </td><td>409.86      </td><td>document_251</td><td>motif_81    </td><td>0.91219981  </td><td>0.4874012   </td></tr>\n",
       "</tbody>\n",
       "</table>\n"
      ],
      "text/latex": [
       "\\begin{tabular}{r|lllllll}\n",
       " scans & precursormass & parentrt & document & motif & probability & overlap\\\\\n",
       "\\hline\n",
       "\t 253            & 953.3489       & 303.77         & document\\_253 & motif\\_6      & 0.99997535     & 0.1133840     \\\\\n",
       "\t 252            & 607.2405       & 334.89         & document\\_252 & motif\\_97     & 0.72399796     & 0.2614573     \\\\\n",
       "\t 252            & 607.2405       & 334.89         & document\\_252 & motif\\_49     & 0.21284991     & 0.4478904     \\\\\n",
       "\t 252            & 607.2405       & 334.89         & document\\_252 & motif\\_57     & 0.06313475     & 0.1879634     \\\\\n",
       "\t 251            & 639.2663       & 409.86         & document\\_251 & motif\\_77     & 0.08011862     & 0.5374396     \\\\\n",
       "\t 251            & 639.2663       & 409.86         & document\\_251 & motif\\_81     & 0.91219981     & 0.4874012     \\\\\n",
       "\\end{tabular}\n"
      ],
      "text/markdown": [
       "\n",
       "scans | precursormass | parentrt | document | motif | probability | overlap | \n",
       "|---|---|---|---|---|---|\n",
       "| 253          | 953.3489     | 303.77       | document_253 | motif_6      | 0.99997535   | 0.1133840    | \n",
       "| 252          | 607.2405     | 334.89       | document_252 | motif_97     | 0.72399796   | 0.2614573    | \n",
       "| 252          | 607.2405     | 334.89       | document_252 | motif_49     | 0.21284991   | 0.4478904    | \n",
       "| 252          | 607.2405     | 334.89       | document_252 | motif_57     | 0.06313475   | 0.1879634    | \n",
       "| 251          | 639.2663     | 409.86       | document_251 | motif_77     | 0.08011862   | 0.5374396    | \n",
       "| 251          | 639.2663     | 409.86       | document_251 | motif_81     | 0.91219981   | 0.4874012    | \n",
       "\n",
       "\n"
      ],
      "text/plain": [
       "  scans precursormass parentrt document     motif    probability overlap  \n",
       "1 253   953.3489      303.77   document_253 motif_6  0.99997535  0.1133840\n",
       "2 252   607.2405      334.89   document_252 motif_97 0.72399796  0.2614573\n",
       "3 252   607.2405      334.89   document_252 motif_49 0.21284991  0.4478904\n",
       "4 252   607.2405      334.89   document_252 motif_57 0.06313475  0.1879634\n",
       "5 251   639.2663      409.86   document_251 motif_77 0.08011862  0.5374396\n",
       "6 251   639.2663      409.86   document_251 motif_81 0.91219981  0.4874012"
      ]
     },
     "metadata": {},
     "output_type": "display_data"
    }
   ],
   "source": [
    "head(motifs)"
   ]
  },
  {
   "cell_type": "markdown",
   "metadata": {},
   "source": [
    "create network data with mapped motifs"
   ]
  },
  {
   "cell_type": "code",
   "execution_count": 12,
   "metadata": {},
   "outputs": [],
   "source": [
    "motif_network <- MolNetEnhancer::Mass2Motif_2_Network(edges,motifs,prob = 0.01,overlap = 0.1, top = 5)"
   ]
  },
  {
   "cell_type": "code",
   "execution_count": 13,
   "metadata": {},
   "outputs": [
    {
     "data": {
      "text/html": [
       "<table>\n",
       "<thead><tr><th></th><th scope=col>CLUSTERID1</th><th scope=col>interact</th><th scope=col>CLUSTERID2</th><th scope=col>DeltaMZ</th><th scope=col>MEH</th><th scope=col>Cosine</th><th scope=col>OtherScore</th><th scope=col>ComponentIndex</th><th scope=col>SharedMotifs</th><th scope=col>topX</th></tr></thead>\n",
       "<tbody>\n",
       "\t<tr><th scope=row>512</th><td> 2              </td><td>cosine          </td><td> 2              </td><td>0               </td><td>1               </td><td>1               </td><td>1               </td><td>-1              </td><td>motif_83        </td><td>NA              </td></tr>\n",
       "\t<tr><th scope=row>513</th><td> 3              </td><td>cosine          </td><td> 3              </td><td>0               </td><td>1               </td><td>1               </td><td>1               </td><td>-1              </td><td>motif_57        </td><td>NA              </td></tr>\n",
       "\t<tr><th scope=row>514</th><td> 5              </td><td>cosine          </td><td> 5              </td><td>0               </td><td>1               </td><td>1               </td><td>1               </td><td>-1              </td><td>motif_39        </td><td>NA              </td></tr>\n",
       "\t<tr><th scope=row>515</th><td> 6              </td><td>cosine          </td><td> 6              </td><td>0               </td><td>1               </td><td>1               </td><td>1               </td><td>-1              </td><td>motif_63        </td><td>NA              </td></tr>\n",
       "\t<tr><th scope=row>516</th><td>10              </td><td>cosine          </td><td>10              </td><td>0               </td><td>1               </td><td>1               </td><td>1               </td><td>-1              </td><td>motif_3,motif_77</td><td>NA              </td></tr>\n",
       "\t<tr><th scope=row>517</th><td>15              </td><td>cosine          </td><td>15              </td><td>0               </td><td>1               </td><td>1               </td><td>1               </td><td>-1              </td><td>motif_18        </td><td>NA              </td></tr>\n",
       "</tbody>\n",
       "</table>\n"
      ],
      "text/latex": [
       "\\begin{tabular}{r|llllllllll}\n",
       "  & CLUSTERID1 & interact & CLUSTERID2 & DeltaMZ & MEH & Cosine & OtherScore & ComponentIndex & SharedMotifs & topX\\\\\n",
       "\\hline\n",
       "\t512 &  2                 & cosine             &  2                 & 0                  & 1                  & 1                  & 1                  & -1                 & motif\\_83         & NA                \\\\\n",
       "\t513 &  3                 & cosine             &  3                 & 0                  & 1                  & 1                  & 1                  & -1                 & motif\\_57         & NA                \\\\\n",
       "\t514 &  5                 & cosine             &  5                 & 0                  & 1                  & 1                  & 1                  & -1                 & motif\\_39         & NA                \\\\\n",
       "\t515 &  6                 & cosine             &  6                 & 0                  & 1                  & 1                  & 1                  & -1                 & motif\\_63         & NA                \\\\\n",
       "\t516 & 10                   & cosine               & 10                   & 0                    & 1                    & 1                    & 1                    & -1                   & motif\\_3,motif\\_77 & NA                  \\\\\n",
       "\t517 & 15                 & cosine             & 15                 & 0                  & 1                  & 1                  & 1                  & -1                 & motif\\_18         & NA                \\\\\n",
       "\\end{tabular}\n"
      ],
      "text/markdown": [
       "\n",
       "| <!--/--> | CLUSTERID1 | interact | CLUSTERID2 | DeltaMZ | MEH | Cosine | OtherScore | ComponentIndex | SharedMotifs | topX | \n",
       "|---|---|---|---|---|---|\n",
       "| 512 |  2               | cosine           |  2               | 0                | 1                | 1                | 1                | -1               | motif_83         | NA               | \n",
       "| 513 |  3               | cosine           |  3               | 0                | 1                | 1                | 1                | -1               | motif_57         | NA               | \n",
       "| 514 |  5               | cosine           |  5               | 0                | 1                | 1                | 1                | -1               | motif_39         | NA               | \n",
       "| 515 |  6               | cosine           |  6               | 0                | 1                | 1                | 1                | -1               | motif_63         | NA               | \n",
       "| 516 | 10               | cosine           | 10               | 0                | 1                | 1                | 1                | -1               | motif_3,motif_77 | NA               | \n",
       "| 517 | 15               | cosine           | 15               | 0                | 1                | 1                | 1                | -1               | motif_18         | NA               | \n",
       "\n",
       "\n"
      ],
      "text/plain": [
       "    CLUSTERID1 interact CLUSTERID2 DeltaMZ MEH Cosine OtherScore ComponentIndex\n",
       "512  2         cosine    2         0       1   1      1          -1            \n",
       "513  3         cosine    3         0       1   1      1          -1            \n",
       "514  5         cosine    5         0       1   1      1          -1            \n",
       "515  6         cosine    6         0       1   1      1          -1            \n",
       "516 10         cosine   10         0       1   1      1          -1            \n",
       "517 15         cosine   15         0       1   1      1          -1            \n",
       "    SharedMotifs     topX\n",
       "512 motif_83         NA  \n",
       "513 motif_57         NA  \n",
       "514 motif_39         NA  \n",
       "515 motif_63         NA  \n",
       "516 motif_3,motif_77 NA  \n",
       "517 motif_18         NA  "
      ]
     },
     "metadata": {},
     "output_type": "display_data"
    }
   ],
   "source": [
    "head(motif_network$edges)"
   ]
  },
  {
   "cell_type": "code",
   "execution_count": 14,
   "metadata": {},
   "outputs": [
    {
     "data": {
      "text/html": [
       "<table>\n",
       "<thead><tr><th scope=col>scans</th><th scope=col>precursormass</th><th scope=col>parentrt</th><th scope=col>document</th><th scope=col>motif</th><th scope=col>probability</th><th scope=col>overlap</th><th scope=col>motif_49</th><th scope=col>motif_72</th><th scope=col>motif_83</th><th scope=col>...</th><th scope=col>motif_11</th><th scope=col>motif_93</th><th scope=col>motif_16</th><th scope=col>motif_36</th><th scope=col>motif_22</th><th scope=col>motif_51</th><th scope=col>motif_50</th><th scope=col>motif_74</th><th scope=col>motif_75</th><th scope=col>motif_33</th></tr></thead>\n",
       "<tbody>\n",
       "\t<tr><td>1                    </td><td> 521.2015, 521.2015  </td><td> 348.56, 348.56      </td><td>document_1,document_1</td><td>motif_49,motif_72    </td><td>0.09889202,0.90105380</td><td>0.4069084,0.2256274  </td><td>0.4069084            </td><td>0.2256274            </td><td>0.00                 </td><td>...                  </td><td>0.00                 </td><td>0.00                 </td><td>0.00                 </td><td>0.00                 </td><td>0.00                 </td><td>0.00                 </td><td>0.00                 </td><td>0.00                 </td><td>0.00                 </td><td>0.00                 </td></tr>\n",
       "\t<tr><td>2                    </td><td> 313.1421            </td><td> 431.78              </td><td>document_2           </td><td>motif_83             </td><td>0.99996501           </td><td>0.1010788            </td><td>0.00                 </td><td>0.00                 </td><td>0.1010788            </td><td>...                  </td><td>0.00                 </td><td>0.00                 </td><td>0.00                 </td><td>0.00                 </td><td>0.00                 </td><td>0.00                 </td><td>0.00                 </td><td>0.00                 </td><td>0.00                 </td><td>0.00                 </td></tr>\n",
       "\t<tr><td>3                    </td><td> 191.0525            </td><td>  49.87              </td><td>document_3           </td><td>motif_57             </td><td>0.99997548           </td><td>0.3024657            </td><td>0.00                 </td><td>0.00                 </td><td>0.00                 </td><td>...                  </td><td>0.00                 </td><td>0.00                 </td><td>0.00                 </td><td>0.00                 </td><td>0.00                 </td><td>0.00                 </td><td>0.00                 </td><td>0.00                 </td><td>0.00                 </td><td>0.00                 </td></tr>\n",
       "\t<tr><td>4                    </td><td> 485.3616            </td><td>1254.38              </td><td>document_4           </td><td>motif_87             </td><td>0.99998830           </td><td>0.3952909            </td><td>0.00                 </td><td>0.00                 </td><td>0.00                 </td><td>...                  </td><td>0.00                 </td><td>0.00                 </td><td>0.00                 </td><td>0.00                 </td><td>0.00                 </td><td>0.00                 </td><td>0.00                 </td><td>0.00                 </td><td>0.00                 </td><td>0.00                 </td></tr>\n",
       "\t<tr><td>5                    </td><td> 377.0837            </td><td>  49.12              </td><td>document_5           </td><td>motif_39             </td><td>0.18487184           </td><td>0.2735252            </td><td>0.00                 </td><td>0.00                 </td><td>0.00                 </td><td>...                  </td><td>0.00                 </td><td>0.00                 </td><td>0.00                 </td><td>0.00                 </td><td>0.00                 </td><td>0.00                 </td><td>0.00                 </td><td>0.00                 </td><td>0.00                 </td><td>0.00                 </td></tr>\n",
       "\t<tr><td>6                    </td><td> 183.0267            </td><td> 192.51              </td><td>document_6           </td><td>motif_63             </td><td>0.99881738           </td><td>0.1662661            </td><td>0.00                 </td><td>0.00                 </td><td>0.00                 </td><td>...                  </td><td>0.00                 </td><td>0.00                 </td><td>0.00                 </td><td>0.00                 </td><td>0.00                 </td><td>0.00                 </td><td>0.00                 </td><td>0.00                 </td><td>0.00                 </td><td>0.00                 </td></tr>\n",
       "</tbody>\n",
       "</table>\n"
      ],
      "text/latex": [
       "\\begin{tabular}{r|lllllllllllllllllllllllllllllllllllllllllllllllllllllllllllllllllllllllllllllllllllllllllllllllllllllllllll}\n",
       " scans & precursormass & parentrt & document & motif & probability & overlap & motif\\_49 & motif\\_72 & motif\\_83 & ... & motif\\_11 & motif\\_93 & motif\\_16 & motif\\_36 & motif\\_22 & motif\\_51 & motif\\_50 & motif\\_74 & motif\\_75 & motif\\_33\\\\\n",
       "\\hline\n",
       "\t 1                         &  521.2015, 521.2015       &  348.56, 348.56           & document\\_1,document\\_1 & motif\\_49,motif\\_72     & 0.09889202,0.90105380     & 0.4069084,0.2256274       & 0.4069084                 & 0.2256274                 & 0.00                      & ...                       & 0.00                      & 0.00                      & 0.00                      & 0.00                      & 0.00                      & 0.00                      & 0.00                      & 0.00                      & 0.00                      & 0.00                     \\\\\n",
       "\t 2                       &  313.1421               &  431.78                 & document\\_2            & motif\\_83              & 0.99996501              & 0.1010788               & 0.00                    & 0.00                    & 0.1010788               & ...                     & 0.00                    & 0.00                    & 0.00                    & 0.00                    & 0.00                    & 0.00                    & 0.00                    & 0.00                    & 0.00                    & 0.00                   \\\\\n",
       "\t 3                       &  191.0525               &   49.87                 & document\\_3            & motif\\_57              & 0.99997548              & 0.3024657               & 0.00                    & 0.00                    & 0.00                    & ...                     & 0.00                    & 0.00                    & 0.00                    & 0.00                    & 0.00                    & 0.00                    & 0.00                    & 0.00                    & 0.00                    & 0.00                   \\\\\n",
       "\t 4                       &  485.3616               & 1254.38                 & document\\_4            & motif\\_87              & 0.99998830              & 0.3952909               & 0.00                    & 0.00                    & 0.00                    & ...                     & 0.00                    & 0.00                    & 0.00                    & 0.00                    & 0.00                    & 0.00                    & 0.00                    & 0.00                    & 0.00                    & 0.00                   \\\\\n",
       "\t 5                       &  377.0837               &   49.12                 & document\\_5            & motif\\_39              & 0.18487184              & 0.2735252               & 0.00                    & 0.00                    & 0.00                    & ...                     & 0.00                    & 0.00                    & 0.00                    & 0.00                    & 0.00                    & 0.00                    & 0.00                    & 0.00                    & 0.00                    & 0.00                   \\\\\n",
       "\t 6                       &  183.0267               &  192.51                 & document\\_6            & motif\\_63              & 0.99881738              & 0.1662661               & 0.00                    & 0.00                    & 0.00                    & ...                     & 0.00                    & 0.00                    & 0.00                    & 0.00                    & 0.00                    & 0.00                    & 0.00                    & 0.00                    & 0.00                    & 0.00                   \\\\\n",
       "\\end{tabular}\n"
      ],
      "text/markdown": [
       "\n",
       "scans | precursormass | parentrt | document | motif | probability | overlap | motif_49 | motif_72 | motif_83 | ... | motif_11 | motif_93 | motif_16 | motif_36 | motif_22 | motif_51 | motif_50 | motif_74 | motif_75 | motif_33 | \n",
       "|---|---|---|---|---|---|\n",
       "| 1                     |  521.2015, 521.2015   |  348.56, 348.56       | document_1,document_1 | motif_49,motif_72     | 0.09889202,0.90105380 | 0.4069084,0.2256274   | 0.4069084             | 0.2256274             | 0.00                  | ...                   | 0.00                  | 0.00                  | 0.00                  | 0.00                  | 0.00                  | 0.00                  | 0.00                  | 0.00                  | 0.00                  | 0.00                  | \n",
       "| 2                     |  313.1421             |  431.78               | document_2            | motif_83              | 0.99996501            | 0.1010788             | 0.00                  | 0.00                  | 0.1010788             | ...                   | 0.00                  | 0.00                  | 0.00                  | 0.00                  | 0.00                  | 0.00                  | 0.00                  | 0.00                  | 0.00                  | 0.00                  | \n",
       "| 3                     |  191.0525             |   49.87               | document_3            | motif_57              | 0.99997548            | 0.3024657             | 0.00                  | 0.00                  | 0.00                  | ...                   | 0.00                  | 0.00                  | 0.00                  | 0.00                  | 0.00                  | 0.00                  | 0.00                  | 0.00                  | 0.00                  | 0.00                  | \n",
       "| 4                     |  485.3616             | 1254.38               | document_4            | motif_87              | 0.99998830            | 0.3952909             | 0.00                  | 0.00                  | 0.00                  | ...                   | 0.00                  | 0.00                  | 0.00                  | 0.00                  | 0.00                  | 0.00                  | 0.00                  | 0.00                  | 0.00                  | 0.00                  | \n",
       "| 5                     |  377.0837             |   49.12               | document_5            | motif_39              | 0.18487184            | 0.2735252             | 0.00                  | 0.00                  | 0.00                  | ...                   | 0.00                  | 0.00                  | 0.00                  | 0.00                  | 0.00                  | 0.00                  | 0.00                  | 0.00                  | 0.00                  | 0.00                  | \n",
       "| 6                     |  183.0267             |  192.51               | document_6            | motif_63              | 0.99881738            | 0.1662661             | 0.00                  | 0.00                  | 0.00                  | ...                   | 0.00                  | 0.00                  | 0.00                  | 0.00                  | 0.00                  | 0.00                  | 0.00                  | 0.00                  | 0.00                  | 0.00                  | \n",
       "\n",
       "\n"
      ],
      "text/plain": [
       "  scans precursormass       parentrt        document             \n",
       "1 1      521.2015, 521.2015  348.56, 348.56 document_1,document_1\n",
       "2 2      313.1421            431.78         document_2           \n",
       "3 3      191.0525             49.87         document_3           \n",
       "4 4      485.3616           1254.38         document_4           \n",
       "5 5      377.0837             49.12         document_5           \n",
       "6 6      183.0267            192.51         document_6           \n",
       "  motif             probability           overlap             motif_49 \n",
       "1 motif_49,motif_72 0.09889202,0.90105380 0.4069084,0.2256274 0.4069084\n",
       "2 motif_83          0.99996501            0.1010788           0.00     \n",
       "3 motif_57          0.99997548            0.3024657           0.00     \n",
       "4 motif_87          0.99998830            0.3952909           0.00     \n",
       "5 motif_39          0.18487184            0.2735252           0.00     \n",
       "6 motif_63          0.99881738            0.1662661           0.00     \n",
       "  motif_72  motif_83  ... motif_11 motif_93 motif_16 motif_36 motif_22 motif_51\n",
       "1 0.2256274 0.00      ... 0.00     0.00     0.00     0.00     0.00     0.00    \n",
       "2 0.00      0.1010788 ... 0.00     0.00     0.00     0.00     0.00     0.00    \n",
       "3 0.00      0.00      ... 0.00     0.00     0.00     0.00     0.00     0.00    \n",
       "4 0.00      0.00      ... 0.00     0.00     0.00     0.00     0.00     0.00    \n",
       "5 0.00      0.00      ... 0.00     0.00     0.00     0.00     0.00     0.00    \n",
       "6 0.00      0.00      ... 0.00     0.00     0.00     0.00     0.00     0.00    \n",
       "  motif_50 motif_74 motif_75 motif_33\n",
       "1 0.00     0.00     0.00     0.00    \n",
       "2 0.00     0.00     0.00     0.00    \n",
       "3 0.00     0.00     0.00     0.00    \n",
       "4 0.00     0.00     0.00     0.00    \n",
       "5 0.00     0.00     0.00     0.00    \n",
       "6 0.00     0.00     0.00     0.00    "
      ]
     },
     "metadata": {},
     "output_type": "display_data"
    }
   ],
   "source": [
    "head(motif_network$nodes)"
   ]
  },
  {
   "cell_type": "markdown",
   "metadata": {},
   "source": [
    "write network data with mapped motifs to files: <br>\n",
    "The <i>edges</i> file can be importet as network into Cytoscape, whereas the <i>nodes</i> file can be imported as table. Select column 'CLUSTERID1' as Source Node, column 'interact' as Interaction Type and 'CLUSTERID2' as Target Node. When importing the nodes file as table, make sure to select the semicolon delimiter under Advanced Options."
   ]
  },
  {
   "cell_type": "code",
   "execution_count": 15,
   "metadata": {},
   "outputs": [],
   "source": [
    "write.table(motif_network$edges,\"Mass2Motifs_Edges_Classical.tsv\",quote=F,row.names = F,sep=\"\\t\")\n",
    "write.table(motif_network$nodes,\"Mass2Motifs_Nodes_Classical.tsv\",quote=F,row.names = F,sep=\";\")"
   ]
  },
  {
   "cell_type": "code",
   "execution_count": null,
   "metadata": {},
   "outputs": [],
   "source": []
  }
 ],
 "metadata": {
  "kernelspec": {
   "display_name": "R",
   "language": "R",
   "name": "ir"
  },
  "language_info": {
   "codemirror_mode": "r",
   "file_extension": ".r",
   "mimetype": "text/x-r-source",
   "name": "R",
   "pygments_lexer": "r",
   "version": "3.4.3"
  }
 },
 "nbformat": 4,
 "nbformat_minor": 2
}
